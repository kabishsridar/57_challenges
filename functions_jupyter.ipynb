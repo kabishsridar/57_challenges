{
 "cells": [
  {
   "cell_type": "code",
   "execution_count": 1,
   "id": "3cb215ca-5315-47fb-97a7-5e8831f4ee59",
   "metadata": {},
   "outputs": [],
   "source": [
    "def word_count(words): # defining a function word_count\n",
    "    word_count = words.count(' ') + 1  # counting the number of words by using count() function with the help of spaces, number of spaces + 1 will be the number of words\n",
    "    print(\"number of words: \",word_count) # displaying final output"
   ]
  },
  {
   "cell_type": "code",
   "execution_count": 2,
   "id": "a227d7ca-83a8-4a25-899c-bc59c631bc71",
   "metadata": {},
   "outputs": [],
   "source": [
    "def cone_volume():  # defining a function named cone volume\n",
    "    radius=float(input(\"enter radius(m): \"))  # getting an input from user for radius\n",
    "    height=float(input(\"enter height(m): \"))  # getting an input from user for height\n",
    "    volume=(1/3)*3.14*radius*radius*height # formula for volume of cone is 1/3 *pi*r**2*h\n",
    "    print(\"volume of the cone is: \",volume,\" m\") # displaying the final output"
   ]
  },
  {
   "cell_type": "code",
   "execution_count": 3,
   "id": "23fffed5-0e2e-417e-831e-603ff2f44fc3",
   "metadata": {},
   "outputs": [],
   "source": [
    "def data_plan():\n",
    "    print(\"Data Plan Programme:\") # displaying programme name\n",
    "    mbpm = int(input(\"Enter amount of mb provided per month: \")) # getting amount of mb provided per month (mbpm indicates mb per month)\n",
    "    months = int(input(\"Enter the number of months: \")) # getting number of months to calculate\n",
    "\n",
    "    excess = 0 # initiating excess as 0\n",
    "\n",
    "    for i in range(months): # it repeats for every month\n",
    "        used = int(input(f\"Enter amount of mb used in month {i + 1}: \"))  # get input from user about amount of mb used in that particular month\n",
    "        excess = excess + mbpm - used # the remaining mb will be stored in variable named excess\n",
    "\n",
    "    print(\"The amount of mb for the next month: \",excess + mbpm)\n",
    "    # here we added mbpm again as it indicates the mb allotted for next month including the previous moth excess mb\n"
   ]
  },
  {
   "cell_type": "code",
   "execution_count": 4,
   "id": "19b4c9b7-88fd-4de9-8918-20e0ef3e02ec",
   "metadata": {},
   "outputs": [],
   "source": [
    "def read_boxes(n): # defining a function read_boxes to read heights of n number of boxes from user's input\n",
    "    boxes = [] # initiating boxes to an empty list\n",
    "    for i in range(n): # loop though each boxes\n",
    "        box = input(\"Enter heights(in by leaving a space between the boxes): \").split() # prompting the user for height of boxes and split into list\n",
    "        box.pop(0)  # Remove the first element which is the number of boxes\n",
    "        if len(box) == 0:  # If box is empty after popping, instruct the user\n",
    "            print(\"Error: Box must contain at least one height!\")\n",
    "            continue\n",
    "        for i in range(len(box)): # loop through each heights\n",
    "            box[i] = int(box[i])\n",
    "        boxes.append(box) # add box into boxes\n",
    "    return boxes"
   ]
  },
  {
   "cell_type": "code",
   "execution_count": 5,
   "id": "8c315fbe-4eb6-45e8-955c-c85e51ffae0d",
   "metadata": {},
   "outputs": [],
   "source": [
    "def box_ok(box):  # Function to check if the heights in a box are non-decreasing\n",
    "    for i in range(len(box) - 1): # Iterate through adjacent heights\n",
    "        if box[i] > box[i + 1]: # If a height is greater than the next one, return False\n",
    "            return False\n",
    "    return True # Return True if all heights are in non-decreasing order\n"
   ]
  },
  {
   "cell_type": "code",
   "execution_count": 6,
   "id": "6bccded1-803f-46f6-bd94-3adade0eb4f1",
   "metadata": {},
   "outputs": [],
   "source": [
    "def all_boxes_ok(boxes): # Function to check if all boxes satisfy the non-decreasing order\n",
    "    for box in boxes: # Iterate through each box\n",
    "        if not box_ok(box):  # If any box fails the check, return False\n",
    "            return False\n",
    "    return True # Return True if all boxes are okay"
   ]
  },
  {
   "cell_type": "code",
   "execution_count": 7,
   "id": "17fbd5bd-10c0-4d28-bb12-732981f28888",
   "metadata": {},
   "outputs": [],
   "source": [
    "def boxes_endpoints(boxes): # Function to get endpoints (first and last height)\n",
    "    endpoints = [] # Initialize list to store endpoints\n",
    "    for box in boxes:\n",
    "        if len(box) == 0: # Skip empty boxes\n",
    "            continue  # Skip if box is empty\n",
    "        endpoints.append([box[0], box[-1]]) # Store first and last element of the box\n",
    "    return endpoints # return as list"
   ]
  },
  {
   "cell_type": "code",
   "execution_count": 8,
   "id": "7560df8b-6652-4ed1-aa06-b7cd6ead7f46",
   "metadata": {},
   "outputs": [],
   "source": [
    "def all_endpoints_ok(endpoints): # Function to check if endpoints satisfy the increasing order condition\n",
    "    maximum = endpoints[0][1]  # Set the initial maximum endpoint\n",
    "    for i in range(1, len(endpoints)): # Iterate through the endpoints\n",
    "        if endpoints[i][0] < maximum: # If a starting endpoint is smaller than the previous maximum, return False\n",
    "            return False\n",
    "        maximum = endpoints[i][1]\n",
    "    return True \n"
   ]
  },
  {
   "cell_type": "code",
   "execution_count": 9,
   "id": "13133af1-911a-40e4-b772-a05e8670a357",
   "metadata": {},
   "outputs": [],
   "source": [
    "def clean(address): # define a function named clean(address)\n",
    "    address = address.lower() # convert it to lowercase a=for consistency\n",
    "    at = address.find('@') # we need to remove characters before @ symbol so we need to find it first, for that we use find \n",
    "    before_at = address[:at] # after finding the index of @ , we seperated it as before_at and after_at to remove before_at and add after_at\n",
    "    after_at = address[at:]\n",
    "\n",
    "    plus = before_at.find('+') # afer the + is not required, so we should remove them, for that we need to find +\n",
    "    if plus != -1: # if plus symbol is not at last before_at should be the string before at and after plus\n",
    "        before_at = before_at[:plus] # this is the unwanted string to be removed\n",
    "\n",
    "    cleaned_before_at = '' # initiate cleaned_before_at as an empty string\n",
    "    i = 0 # initiate i to 0\n",
    "    while i < len(before_at):  # repeat for each character before the @ symbol\n",
    "        if before_at[i] != '.':  # If the character is not a dot, add it to the cleaned string\n",
    "            cleaned_before_at += before_at[i] # the before_at will be added to cleaned_before_at\n",
    "        i += 1  # Move to the next character\n",
    "\n",
    "    cleaned = cleaned_before_at + after_at # it is the correct email address named cleaned\n",
    "    return cleaned"
   ]
  },
  {
   "cell_type": "code",
   "execution_count": 10,
   "id": "cbf4c606-0760-46a1-9200-177e9fdc746c",
   "metadata": {},
   "outputs": [],
   "source": [
    "def telemarketer():\n",
    "    num = input(\"enter four number with seperating by spaces: \")  # the user can give all four numbers in a single go which makes user friendly\n",
    "    lst = num.split() # it removes the spaces and store the integers sepearately in form ['num1','num2','num3','num4']\n",
    "    num1 = int(lst[0]) # seperating all four integers into four different variables so that we can check each of them one by one\n",
    "    num2 = int(lst[1])\n",
    "    num3 = int(lst[2])\n",
    "    num4 = int(lst[3])\n",
    "\n",
    "    if (num1 == 8 or num1 == 9) and (num4 == 8 or num4 == 9) and (num2 == num3): \n",
    "        print(\"ignore\")\n",
    "    else:\n",
    "        print(\"answer\")"
   ]
  }
 ],
 "metadata": {
  "kernelspec": {
   "display_name": "Python 3 (ipykernel)",
   "language": "python",
   "name": "python3"
  },
  "language_info": {
   "codemirror_mode": {
    "name": "ipython",
    "version": 3
   },
   "file_extension": ".py",
   "mimetype": "text/x-python",
   "name": "python",
   "nbconvert_exporter": "python",
   "pygments_lexer": "ipython3",
   "version": "3.13.0"
  }
 },
 "nbformat": 4,
 "nbformat_minor": 5
}
