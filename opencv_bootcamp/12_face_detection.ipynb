{
 "cells": [
  {
   "cell_type": "code",
   "execution_count": 8,
   "id": "54f190a8-8e4f-4bd4-8d58-04366aed0185",
   "metadata": {},
   "outputs": [],
   "source": [
    "# open this code in .py file to execute"
   ]
  },
  {
   "cell_type": "code",
   "execution_count": 4,
   "id": "84ca76a4-fb3f-47d6-9400-0b3dbfa91ba6",
   "metadata": {},
   "outputs": [],
   "source": [
    "import os # importing the required libraries\n",
    "import cv2\n",
    "import sys\n",
    "from zipfile import ZipFile\n",
    "from urllib.request import urlretrieve"
   ]
  },
  {
   "cell_type": "code",
   "execution_count": 2,
   "id": "e9057046-0e2d-49ff-8fff-2f50d5375665",
   "metadata": {},
   "outputs": [],
   "source": [
    "# ========================-Downloading Assets-========================\n",
    "def download_and_unzip(url, save_path):\n",
    "    print(f\"Downloading and extracting assests....\", end=\"\")\n",
    "\n",
    "    # Downloading zip file using urllib package.\n",
    "    urlretrieve(url, save_path)\n",
    "\n",
    "    try:\n",
    "        # Extracting zip file using the zipfile package.\n",
    "        with ZipFile(save_path) as z:\n",
    "            # Extract ZIP file contents in the same directory.\n",
    "            z.extractall(os.path.split(save_path)[0])\n",
    "\n",
    "        print(\"Done\")\n",
    "\n",
    "    except Exception as e:\n",
    "        print(\"\\nInvalid file.\", e)\n",
    "\n",
    "\n",
    "URL = r\"https://www.dropbox.com/s/efitgt363ada95a/opencv_bootcamp_assets_12.zip?dl=1\"\n",
    "\n",
    "asset_zip_path = os.path.join(os.getcwd(), f\"opencv_bootcamp_assets_12.zip\")\n",
    "\n",
    "# Download if assest ZIP does not exists.\n",
    "if not os.path.exists(asset_zip_path):\n",
    "    download_and_unzip(URL, asset_zip_path)\n",
    "# ===================================================================="
   ]
  },
  {
   "cell_type": "code",
   "execution_count": 5,
   "id": "9002fe44-1e0b-496a-a3c3-11aace4de39b",
   "metadata": {},
   "outputs": [],
   "source": [
    "s = 0\n",
    "if len(sys.argv) > 1:\n",
    "    s = sys.argv[1]"
   ]
  },
  {
   "cell_type": "code",
   "execution_count": 7,
   "id": "25d89ddb-ff3c-46f1-80fc-f50b34b7aaaf",
   "metadata": {},
   "outputs": [],
   "source": [
    "source = cv2.VideoCapture(s) # captures from camera\n",
    "\n",
    "win_name = \"Camera Preview\" # assigning window name\n",
    "cv2.namedWindow(win_name, cv2.WINDOW_NORMAL)\n",
    "\n",
    "net = cv2.dnn.readNetFromCaffe(\"deploy.prototxt\", \"res10_300x300_ssd_iter_140000_fp16.caffemodel\") # read from caffe model\n",
    "# Model parameters\n",
    "in_width = 300\n",
    "in_height = 300\n",
    "mean = [104, 117, 123] # assigning parameters\n",
    "conf_threshold = 0.7\n",
    "\n",
    "while cv2.waitKey(1) != 27:\n",
    "    has_frame, frame = source.read() # reads the camera\n",
    "    if not has_frame: # if camera is not read, break\n",
    "        break\n",
    "    frame = cv2.flip(frame, 1) # flips vertically for the original image\n",
    "    frame_height = frame.shape[0] # assigning frame_height and frame_width\n",
    "    frame_width = frame.shape[1]\n",
    "\n",
    "    # Create a 4D blob from a frame.\n",
    "    blob = cv2.dnn.blobFromImage(frame, 1.0, (in_width, in_height), mean, swapRB=False, crop=False) # creates blob\n",
    "    # Run a model\n",
    "    net.setInput(blob)\n",
    "    detections = net.forward() # stores the detected face\n",
    "\n",
    "    for i in range(detections.shape[2]): # loop through each detections found\n",
    "        confidence = detections[0, 0, i, 2]\n",
    "        if confidence > conf_threshold:\n",
    "            x_top_left = int(detections[0, 0, i, 3] * frame_width)\n",
    "            y_top_left = int(detections[0, 0, i, 4] * frame_height)\n",
    "            x_bottom_right  = int(detections[0, 0, i, 5] * frame_width)\n",
    "            y_bottom_right  = int(detections[0, 0, i, 6] * frame_height)\n",
    "\n",
    "            cv2.rectangle(frame, (x_top_left, y_top_left), (x_bottom_right, y_bottom_right), (0, 255, 0))\n",
    "            label = \"Confidence: %.4f\" % confidence\n",
    "            label_size, base_line = cv2.getTextSize(label, cv2.FONT_HERSHEY_SIMPLEX, 0.5, 1)\n",
    "\n",
    "            cv2.rectangle(\n",
    "                frame,\n",
    "                (x_top_left, y_top_left - label_size[1]),\n",
    "                (x_top_left + label_size[0], y_top_left + base_line),\n",
    "                (255, 255, 255), # white color background\n",
    "                cv2.FILLED, # filled background\n",
    "            )\n",
    "            cv2.putText(frame, label, (x_top_left, y_top_left), cv2.FONT_HERSHEY_SIMPLEX, 0.5, (0, 0, 0)) # black color text in the white background\n",
    "\n",
    "    t, _ = net.getPerfProfile()\n",
    "    label = \"Inference time: %.2f ms\" % (t * 1000.0 / cv2.getTickFrequency())\n",
    "    cv2.putText(frame, label, (0, 15), cv2.FONT_HERSHEY_SIMPLEX, 0.5, (0, 255, 0)) # displays green color text\n",
    "    cv2.imshow(win_name, frame) # displays the image\n",
    "\n",
    "source.release()\n",
    "cv2.destroyWindow(win_name)"
   ]
  }
 ],
 "metadata": {
  "kernelspec": {
   "display_name": "Python 3 (ipykernel)",
   "language": "python",
   "name": "python3"
  },
  "language_info": {
   "codemirror_mode": {
    "name": "ipython",
    "version": 3
   },
   "file_extension": ".py",
   "mimetype": "text/x-python",
   "name": "python",
   "nbconvert_exporter": "python",
   "pygments_lexer": "ipython3",
   "version": "3.13.0"
  }
 },
 "nbformat": 4,
 "nbformat_minor": 5
}
