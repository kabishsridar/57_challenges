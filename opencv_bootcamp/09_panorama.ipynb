{
 "cells": [
  {
   "cell_type": "markdown",
   "metadata": {
    "id": "xBjx0daye9wR"
   },
   "source": [
    "# Creating Panoramas using OpenCV\n",
    "\n",
    "**Satya Mallick, LearnOpenCV.com**"
   ]
  },
  {
   "cell_type": "code",
   "execution_count": 1,
   "metadata": {
    "ExecuteTime": {
     "end_time": "2023-03-29T19:28:05.927519Z",
     "start_time": "2023-03-29T19:28:05.316529Z"
    },
    "id": "y9N3wCiGe9wX"
   },
   "outputs": [],
   "source": [
    "# Import Libraries\n",
    "import os\n",
    "import cv2\n",
    "import math\n",
    "import glob\n",
    "import numpy as np\n",
    "import matplotlib.pyplot as plt\n",
    "\n",
    "from zipfile import ZipFile\n",
    "from urllib.request import urlretrieve\n",
    "\n",
    "%matplotlib inline"
   ]
  },
  {
   "cell_type": "markdown",
   "metadata": {
    "id": "rBbWxZM9e9wk"
   },
   "source": [
    "##  <font style=\"color:black\">Download Assets</font>"
   ]
  },
  {
   "cell_type": "code",
   "execution_count": 2,
   "metadata": {
    "ExecuteTime": {
     "end_time": "2023-03-29T19:28:05.942519Z",
     "start_time": "2023-03-29T19:28:05.930520Z"
    },
    "id": "NwhU187me9wm"
   },
   "outputs": [],
   "source": [
    "def download_and_unzip(url, save_path):\n",
    "    print(f\"Downloading and extracting assests....\", end=\"\")\n",
    "\n",
    "    # Downloading zip file using urllib package.\n",
    "    urlretrieve(url, save_path)\n",
    "\n",
    "    try:\n",
    "        # Extracting zip file using the zipfile package.\n",
    "        with ZipFile(save_path) as z:\n",
    "            # Extract ZIP file contents in the same directory.\n",
    "            z.extractall(os.path.split(save_path)[0])\n",
    "\n",
    "        print(\"Done\")\n",
    "\n",
    "    except Exception as e:\n",
    "        print(\"\\nInvalid file.\", e)"
   ]
  },
  {
   "cell_type": "code",
   "execution_count": 3,
   "metadata": {
    "ExecuteTime": {
     "end_time": "2023-03-29T19:28:11.823789Z",
     "start_time": "2023-03-29T19:28:05.947523Z"
    },
    "colab": {
     "base_uri": "https://localhost:8080/"
    },
    "id": "LS7Ow8kLe9wp",
    "outputId": "ca93724e-f879-46a9-af9e-63eb8aad3691"
   },
   "outputs": [
    {
     "name": "stdout",
     "output_type": "stream",
     "text": [
      "Downloading and extracting assests....Done\n"
     ]
    }
   ],
   "source": [
    "URL = r\"https://www.dropbox.com/s/0o5yqql1ynx31bi/opencv_bootcamp_assets_NB9.zip?dl=1\"\n",
    "\n",
    "asset_zip_path = os.path.join(os.getcwd(), \"opencv_bootcamp_assets_NB9.zip\")\n",
    "\n",
    "# Download if assest ZIP does not exists.\n",
    "if not os.path.exists(asset_zip_path):\n",
    "    download_and_unzip(URL, asset_zip_path)"
   ]
  },
  {
   "cell_type": "markdown",
   "metadata": {
    "id": "XjGTIex4e9wr"
   },
   "source": [
    "# Steps for Creating Panoramas\n",
    "\n",
    "1. Find keypoints in all images\n",
    "2. Find pairwise correspondences\n",
    "2. Estimate pairwise Homographies\n",
    "3. Refine Homographies\n",
    "3. Stitch with Blending"
   ]
  },
  {
   "cell_type": "markdown",
   "metadata": {
    "id": "zb_myTL2e9ws"
   },
   "source": [
    "# Steps for Creating Panoramas using OpenCV"
   ]
  },
  {
   "cell_type": "code",
   "execution_count": 9,
   "metadata": {
    "ExecuteTime": {
     "end_time": "2023-03-29T19:28:11.886755Z",
     "start_time": "2023-03-29T19:28:11.826772Z"
    },
    "id": "pULYGEuFe9wx"
   },
   "outputs": [],
   "source": [
    "# Read Images\n",
    "\n",
    "imagefiles = glob.glob(f\"opencv_bootcamp_assets_NB9/opeboat{os.sep}*\") # Return a list of paths matching a pathname pattern.\n",
    "imagefiles.sort() # sorts the list in ascending order\n",
    "\n",
    "\n",
    "images = [] # inititate empty list, so that the images converted to RGB will stored here\n",
    "for filename in imagefiles:\n",
    "    img = cv2.imread(filename) # reading the image\n",
    "    img = cv2.cvtColor(img, cv2.COLOR_BGR2RGB) # converting to RGB\n",
    "    images.append(img) # appending them to the list after convertion\n",
    "\n",
    "num_images = len(images) # storing the number of images  in the list as num_images"
   ]
  },
  {
   "cell_type": "code",
   "execution_count": 19,
   "metadata": {
    "ExecuteTime": {
     "end_time": "2023-03-29T19:28:12.820758Z",
     "start_time": "2023-03-29T19:28:11.888764Z"
    },
    "colab": {
     "base_uri": "https://localhost:8080/",
     "height": 666
    },
    "id": "TMd_hiPYe9wy",
    "outputId": "9287f330-df3b-4689-fc74-70add695797f"
   },
   "outputs": [
    {
     "data": {
      "text/plain": [
       "<Figure size 3000x1000 with 0 Axes>"
      ]
     },
     "metadata": {},
     "output_type": "display_data"
    }
   ],
   "source": [
    "# Display Images\n",
    "plt.figure(figsize=[30, 10])\n",
    "num_cols = 3\n",
    "num_rows = math.ceil(num_images / num_cols)\n",
    "for i in range(0, num_images): # loop through each images and displays the image\n",
    "    plt.subplot(num_rows, num_cols, i + 1)\n",
    "    plt.axis(\"off\")\n",
    "    plt.imshow(images[i]) # displaying the image"
   ]
  },
  {
   "cell_type": "markdown",
   "metadata": {
    "id": "YKDWkJi8e9xH"
   },
   "source": [
    "Use the **sticher** class"
   ]
  },
  {
   "cell_type": "code",
   "execution_count": 15,
   "metadata": {
    "ExecuteTime": {
     "end_time": "2023-03-29T19:28:16.645927Z",
     "start_time": "2023-03-29T19:28:12.823755Z"
    },
    "colab": {
     "base_uri": "https://localhost:8080/",
     "height": 363
    },
    "id": "aqEyslJBe9z0",
    "outputId": "ed6aeaeb-996a-4c3c-ec13-dae9e2e71379"
   },
   "outputs": [],
   "source": [
    "# Stitch Images\n",
    "stitcher = cv2.Stitcher_create() # creates a sticher place to stitch\n",
    "status, result = stitcher.stitch(images) # stitches the image\n",
    "\n",
    "if status == 0:\n",
    "    plt.figure(figsize=[30, 10])\n",
    "    plt.imshow(result)"
   ]
  },
  {
   "cell_type": "code",
   "execution_count": null,
   "metadata": {
    "id": "nKBLan5GKTAc"
   },
   "outputs": [],
   "source": []
  }
 ],
 "metadata": {
  "celltoolbar": "Slideshow",
  "colab": {
   "provenance": []
  },
  "kernelspec": {
   "display_name": "Python 3 (ipykernel)",
   "language": "python",
   "name": "python3"
  },
  "language_info": {
   "codemirror_mode": {
    "name": "ipython",
    "version": 3
   },
   "file_extension": ".py",
   "mimetype": "text/x-python",
   "name": "python",
   "nbconvert_exporter": "python",
   "pygments_lexer": "ipython3",
   "version": "3.13.0"
  },
  "toc": {
   "base_numbering": 1,
   "nav_menu": {},
   "number_sections": false,
   "sideBar": true,
   "skip_h1_title": false,
   "title_cell": "Table of Contents",
   "title_sidebar": "Contents",
   "toc_cell": false,
   "toc_position": {
    "height": "calc(100% - 180px)",
    "left": "10px",
    "top": "150px",
    "width": "159.492px"
   },
   "toc_section_display": true,
   "toc_window_display": false
  },
  "varInspector": {
   "cols": {
    "lenName": 16,
    "lenType": 16,
    "lenVar": 40
   },
   "kernels_config": {
    "python": {
     "delete_cmd_postfix": "",
     "delete_cmd_prefix": "del ",
     "library": "var_list.py",
     "varRefreshCmd": "print(var_dic_list())"
    },
    "r": {
     "delete_cmd_postfix": ") ",
     "delete_cmd_prefix": "rm(",
     "library": "var_list.r",
     "varRefreshCmd": "cat(var_dic_list()) "
    }
   },
   "types_to_exclude": [
    "module",
    "function",
    "builtin_function_or_method",
    "instance",
    "_Feature"
   ],
   "window_display": false
  }
 },
 "nbformat": 4,
 "nbformat_minor": 4
}
