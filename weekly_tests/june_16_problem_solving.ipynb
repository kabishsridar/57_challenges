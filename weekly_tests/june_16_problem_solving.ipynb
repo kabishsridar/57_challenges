{
 "cells": [
  {
   "cell_type": "code",
   "execution_count": 22,
   "id": "e0a4c40a-9d56-484a-a1d5-f743f4e5c491",
   "metadata": {},
   "outputs": [
    {
     "name": "stdout",
     "output_type": "stream",
     "text": [
      "the data is there\n"
     ]
    }
   ],
   "source": [
    "with open('june_16_text.txt','r') as fin: # opening the file in read mode\n",
    "    data = fin.readlines() # reading each lines\n",
    "    pairs = []\n",
    "    if data: # if the file has some datas, \n",
    "        for num, val in enumerate(data):\n",
    "            num, val = idx\n",
    "        print(\"the data is there\")\n",
    "    else:\n",
    "        print(\"Empty file\")"
   ]
  },
  {
   "cell_type": "code",
   "execution_count": 2,
   "id": "8d94a24a-948e-498b-bd8f-7dd34258a8db",
   "metadata": {},
   "outputs": [
    {
     "name": "stdout",
     "output_type": "stream",
     "text": [
      "<class 'list'>\n"
     ]
    }
   ],
   "source": [
    "print(type(data))"
   ]
  },
  {
   "cell_type": "code",
   "execution_count": 6,
   "id": "1614d1f2-1a0a-4ebc-9ad8-b809f84ecb20",
   "metadata": {},
   "outputs": [
    {
     "name": "stdin",
     "output_type": "stream",
     "text": [
      "Enter the number of Os:  5\n"
     ]
    },
    {
     "name": "stdout",
     "output_type": "stream",
     "text": [
      "Spoooooky\n"
     ]
    }
   ],
   "source": [
    "# 1\n",
    "num_o = int(input(\"Enter the number of Os: \"))\n",
    "output = \"o\"\n",
    "print(f\"Sp{output*num_o}ky\")"
   ]
  },
  {
   "cell_type": "code",
   "execution_count": 9,
   "id": "9e2d3244-583f-4571-91d3-37fbabc1df17",
   "metadata": {},
   "outputs": [
    {
     "name": "stdin",
     "output_type": "stream",
     "text": [
      "Enter the number of far:  4\n"
     ]
    },
    {
     "name": "stdout",
     "output_type": "stream",
     "text": [
      "A long time ago in a galaxy far, far, far, far,  away...\n"
     ]
    }
   ],
   "source": [
    "#2\n",
    "num_far = int(input(\"Enter the number of far: \"))\n",
    "far = \"far, \"\n",
    "print(f'A long time ago in a galaxy {far * num_far} away...')"
   ]
  },
  {
   "cell_type": "code",
   "execution_count": 12,
   "id": "8727de4f-607a-44ab-b565-9c132c768ed7",
   "metadata": {},
   "outputs": [
    {
     "name": "stdin",
     "output_type": "stream",
     "text": [
      " 12\n",
      " 15\n"
     ]
    },
    {
     "name": "stdout",
     "output_type": "stream",
     "text": [
      "18\n"
     ]
    }
   ],
   "source": [
    "#3\n",
    "child1 = int(input(\"\"))\n",
    "child2 = int(input())\n",
    "dif = child2 - child1\n",
    "print(child2 + dif)"
   ]
  },
  {
   "cell_type": "code",
   "execution_count": 18,
   "id": "b1bda687-aaf0-4cd3-9dcf-7eb2108b2a94",
   "metadata": {},
   "outputs": [
    {
     "name": "stdin",
     "output_type": "stream",
     "text": [
      " 20\n"
     ]
    },
    {
     "name": "stdout",
     "output_type": "stream",
     "text": [
      "68\n"
     ]
    }
   ],
   "source": [
    "#4\n",
    "c = int(input())\n",
    "f = c * (9/5) + 32\n",
    "print(int(f))"
   ]
  },
  {
   "cell_type": "code",
   "execution_count": 19,
   "id": "a50015fc-65bf-4b53-8929-11a06981a1dd",
   "metadata": {},
   "outputs": [
    {
     "name": "stdin",
     "output_type": "stream",
     "text": [
      " 14\n",
      " 3\n",
      " 10\n"
     ]
    },
    {
     "name": "stdout",
     "output_type": "stream",
     "text": [
      "42\n"
     ]
    }
   ],
   "source": [
    "#5\n",
    "total_paint = int(input()) # total amount of paint James has (in liters)\n",
    "paint_per_badge = int(input()) # how much paint is used for one badge\n",
    "badge_price = int(input()) # price of each badge\n",
    "\n",
    "badges = total_paint // paint_per_badge # number of bages\n",
    "leftover_paint = total_paint % paint_per_badge # paint left after making badges\n",
    "\n",
    "total_money = (badges * badge_price) + leftover_paint\n",
    "print(total_money) # display total money"
   ]
  },
  {
   "cell_type": "code",
   "execution_count": 20,
   "id": "4e1695b9-70f5-401d-b6aa-d64cff08967f",
   "metadata": {},
   "outputs": [
    {
     "name": "stdin",
     "output_type": "stream",
     "text": [
      " 2\n",
      " 1\n",
      " 3\n",
      " 4\n"
     ]
    },
    {
     "name": "stdout",
     "output_type": "stream",
     "text": [
      "Your total Calorie count is 649.\n"
     ]
    }
   ],
   "source": [
    "#1\n",
    "total = 0\n",
    "burger = int(input())\n",
    "if burger == 1:\n",
    "    total += 461\n",
    "elif burger == 2:\n",
    "    total += 431\n",
    "elif burger == 3:\n",
    "    total += 420\n",
    "elif burger == 4:\n",
    "    pass\n",
    "else:\n",
    "    print(\"Enter valid integer\")\n",
    "\n",
    "side = int(input())\n",
    "if side == 1:\n",
    "    total += 100\n",
    "elif side == 2:\n",
    "    total += 57\n",
    "elif side == 3:\n",
    "    total += 70\n",
    "elif side == 4:\n",
    "    pass\n",
    "else:\n",
    "    print(\"Enter valid integer\")\n",
    "\n",
    "drink = int(input())\n",
    "if drink == 1:\n",
    "    total += 130\n",
    "elif drink == 2:\n",
    "    total += 160\n",
    "elif drink == 3:\n",
    "    total += 118\n",
    "elif drink == 4:\n",
    "    pass\n",
    "else:\n",
    "    print(\"Enter valid integer\")\n",
    "\n",
    "dessert = int(input())\n",
    "if dessert == 1:\n",
    "    total += 167\n",
    "elif dessert == 2:\n",
    "    total += 266\n",
    "elif dessert == 3:\n",
    "    total += 75\n",
    "elif dessert == 4:\n",
    "    pass\n",
    "else:\n",
    "    print(\"Enter valid integer\")\n",
    "\n",
    "print(f\"Your total Calorie count is {total}.\")"
   ]
  },
  {
   "cell_type": "code",
   "execution_count": 21,
   "id": "e460f689-4734-4c13-9a46-c1196cd9762a",
   "metadata": {},
   "outputs": [
    {
     "name": "stdin",
     "output_type": "stream",
     "text": [
      " 2\n",
      " 4\n"
     ]
    },
    {
     "name": "stdout",
     "output_type": "stream",
     "text": [
      "Before\n"
     ]
    }
   ],
   "source": [
    "#2\n",
    "# first month\n",
    "# next date\n",
    "month = int(input())\n",
    "date = int(input())\n",
    "\n",
    "if month ==2 and date == 18:\n",
    "    print(\"Special\")\n",
    "elif month <= 2:\n",
    "    if month == 1:\n",
    "        print(\"Before\")\n",
    "    elif month == 2:\n",
    "        if date <= 18:\n",
    "            print(\"Before\")\n",
    "        elif date > 18 and date < 31:\n",
    "            print(\"After\")\n",
    "        else:\n",
    "            print(\"There are only 31 days\")\n",
    "elif month >=3 and month <= 12:\n",
    "    print(\"After\")\n",
    "else:\n",
    "    print(\"There are only 12 months\")"
   ]
  },
  {
   "cell_type": "code",
   "execution_count": null,
   "id": "7698afbb-5d5c-4ec7-8df8-0e87bb008d7d",
   "metadata": {},
   "outputs": [],
   "source": [
    "#3\n",
    "happy = \":-)\"\n",
    "sad = \":-(\"\n",
    "prompt = input()\n",
    "happy_count = prompt.count(happy)\n",
    "sad_count = prompt.count(sad)\n",
    "\"\"\" happy_count = 0\n",
    "sad_count = 0\n",
    "for sentence in prompt:\n",
    "    if sentence == happy:\n",
    "        happy_count += 1\n",
    "    elif sentence == sad:\n",
    "        sad_count += 1 \"\"\"\n",
    "        \n",
    "if happy_count > sad_count:\n",
    "    print(\"happy\")\n",
    "elif happy_count < sad_count:\n",
    "    print(\"sad\")\n",
    "elif happy_count == 0 and sad_count == 0:\n",
    "    print(\"none\")\n",
    "elif happy_count == sad_count:\n",
    "    print(\"unsure\")"
   ]
  },
  {
   "cell_type": "code",
   "execution_count": null,
   "id": "11496a66-e243-443b-84be-fd3e0b8ca50d",
   "metadata": {},
   "outputs": [],
   "source": [
    "#4\n",
    "width = int(input())\n",
    "cheesiness = int(input())\n",
    "\n",
    "output = \"\"\n",
    "if width == 3 and cheesiness >= 95:\n",
    "    output = \"absolutely\"\n",
    "elif width == 1 and cheesiness <=50:\n",
    "    output = \"fairly\"\n",
    "else:\n",
    "    output = \"very\"\n",
    "\n",
    "print(f\"C.C. is {output} satisfied with her pizza.\")"
   ]
  }
 ],
 "metadata": {
  "kernelspec": {
   "display_name": "Python 3 (ipykernel)",
   "language": "python",
   "name": "python3"
  },
  "language_info": {
   "codemirror_mode": {
    "name": "ipython",
    "version": 3
   },
   "file_extension": ".py",
   "mimetype": "text/x-python",
   "name": "python",
   "nbconvert_exporter": "python",
   "pygments_lexer": "ipython3",
   "version": "3.13.0"
  }
 },
 "nbformat": 4,
 "nbformat_minor": 5
}
