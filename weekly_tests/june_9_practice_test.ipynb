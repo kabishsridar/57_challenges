{
 "cells": [
  {
   "cell_type": "code",
   "execution_count": 5,
   "id": "d7acf68a-f3db-43de-89cf-7a9528cecc31",
   "metadata": {},
   "outputs": [
    {
     "name": "stdout",
     "output_type": "stream",
     "text": [
      "\n",
      "enter the number accordingly\n",
      "1. Add Expense\n",
      "        2. Show total\n",
      "        3. Show Average\n",
      "        4. Show highest Expense\n",
      "        5. Display All Expense\n",
      "        6. Exit\n",
      "        \n"
     ]
    },
    {
     "name": "stdout",
     "output_type": "stream",
     "text": [
      "Enter your choice:  1\n",
      "Enter the purpose:  grocery\n",
      "Enter the amount:  8000\n"
     ]
    },
    {
     "name": "stdout",
     "output_type": "stream",
     "text": [
      "\n",
      "enter the number accordingly\n",
      "1. Add Expense\n",
      "        2. Show total\n",
      "        3. Show Average\n",
      "        4. Show highest Expense\n",
      "        5. Display All Expense\n",
      "        6. Exit\n",
      "        \n"
     ]
    },
    {
     "name": "stdout",
     "output_type": "stream",
     "text": [
      "Enter your choice:  1\n",
      "Enter the purpose:  tax\n",
      "Enter the amount:  10000\n"
     ]
    },
    {
     "name": "stdout",
     "output_type": "stream",
     "text": [
      "\n",
      "enter the number accordingly\n",
      "1. Add Expense\n",
      "        2. Show total\n",
      "        3. Show Average\n",
      "        4. Show highest Expense\n",
      "        5. Display All Expense\n",
      "        6. Exit\n",
      "        \n"
     ]
    },
    {
     "name": "stdout",
     "output_type": "stream",
     "text": [
      "Enter your choice:  1\n",
      "Enter the purpose:  travelling\n",
      "Enter the amount:  5000\n"
     ]
    },
    {
     "name": "stdout",
     "output_type": "stream",
     "text": [
      "\n",
      "enter the number accordingly\n",
      "1. Add Expense\n",
      "        2. Show total\n",
      "        3. Show Average\n",
      "        4. Show highest Expense\n",
      "        5. Display All Expense\n",
      "        6. Exit\n",
      "        \n"
     ]
    },
    {
     "name": "stdout",
     "output_type": "stream",
     "text": [
      "Enter your choice:  1\n",
      "Enter the purpose:  food\n",
      "Enter the amount:  7000\n"
     ]
    },
    {
     "name": "stdout",
     "output_type": "stream",
     "text": [
      "\n",
      "enter the number accordingly\n",
      "1. Add Expense\n",
      "        2. Show total\n",
      "        3. Show Average\n",
      "        4. Show highest Expense\n",
      "        5. Display All Expense\n",
      "        6. Exit\n",
      "        \n"
     ]
    },
    {
     "name": "stdout",
     "output_type": "stream",
     "text": [
      "Enter your choice:  2\n"
     ]
    },
    {
     "name": "stdout",
     "output_type": "stream",
     "text": [
      "Total Expense: 30000.0\n",
      "\n",
      "enter the number accordingly\n",
      "1. Add Expense\n",
      "        2. Show total\n",
      "        3. Show Average\n",
      "        4. Show highest Expense\n",
      "        5. Display All Expense\n",
      "        6. Exit\n",
      "        \n"
     ]
    },
    {
     "name": "stdout",
     "output_type": "stream",
     "text": [
      "Enter your choice:  3\n"
     ]
    },
    {
     "name": "stdout",
     "output_type": "stream",
     "text": [
      "Average Expense: 7500.0\n",
      "\n",
      "enter the number accordingly\n",
      "1. Add Expense\n",
      "        2. Show total\n",
      "        3. Show Average\n",
      "        4. Show highest Expense\n",
      "        5. Display All Expense\n",
      "        6. Exit\n",
      "        \n"
     ]
    },
    {
     "name": "stdout",
     "output_type": "stream",
     "text": [
      "Enter your choice:  4\n"
     ]
    },
    {
     "name": "stdout",
     "output_type": "stream",
     "text": [
      "Highest Expense: tax - 10000.0\n",
      "\n",
      "enter the number accordingly\n",
      "1. Add Expense\n",
      "        2. Show total\n",
      "        3. Show Average\n",
      "        4. Show highest Expense\n",
      "        5. Display All Expense\n",
      "        6. Exit\n",
      "        \n"
     ]
    },
    {
     "name": "stdout",
     "output_type": "stream",
     "text": [
      "Enter your choice:  5\n"
     ]
    },
    {
     "name": "stdout",
     "output_type": "stream",
     "text": [
      "Expenses:\n",
      "1. grocery - 8000.0\n",
      "2. tax - 10000.0\n",
      "3. travelling - 5000.0\n",
      "4. food - 7000.0\n",
      "\n",
      "enter the number accordingly\n",
      "1. Add Expense\n",
      "        2. Show total\n",
      "        3. Show Average\n",
      "        4. Show highest Expense\n",
      "        5. Display All Expense\n",
      "        6. Exit\n",
      "        \n"
     ]
    },
    {
     "name": "stdout",
     "output_type": "stream",
     "text": [
      "Enter your choice:  6\n"
     ]
    },
    {
     "name": "stdout",
     "output_type": "stream",
     "text": [
      "expenses saved\n"
     ]
    }
   ],
   "source": [
    "import csv\n",
    "def add_expense(purpose, amount): # function to add expenses\n",
    "    purposes.append(purpose)\n",
    "    amounts.append(amount)\n",
    "def show_total(amounts): # function to display all datas\n",
    "    total = sum(amounts) # returns sum\n",
    "    print(f\"Total Expense: {total}\")\n",
    "def show_average(amounts): # function to display average\n",
    "    if amounts != []:\n",
    "        average = sum(amounts) / len(amounts) # returns average\n",
    "        print(f\"Average Expense: {average}\")\n",
    "    else:\n",
    "        print(\"No expenses recorded.\")\n",
    "def show_highest_expense(purposes, amounts): # function to show highest expense\n",
    "    if amounts != []:\n",
    "        max_index = amounts.index(max(amounts)) # returns the maximum number in amounts\n",
    "        print(f\"Highest Expense: {purposes[max_index]} - {amounts[max_index]}\")\n",
    "    else:\n",
    "        print(\"No expenses recorded.\")\n",
    "def display_all_expense(purposes, amounts):\n",
    "    if purposes and amounts:\n",
    "        print(\"Expenses:\")\n",
    "        for i in range(len(purposes)): # display all datas one by one\n",
    "            print(f\"{i + 1}. {purposes[i]} - {amounts[i]}\") \n",
    "    else:\n",
    "        print(\"No expenses recorded.\")\n",
    "def write_csv(purposes, amounts): # storing to csv file\n",
    "    file = open('expenses.csv', 'w') # opening fule\n",
    "    writer = csv.writer(file)\n",
    "    writer.writerow(['Purpose', 'Amount']) # this will be the heading\n",
    "    for i in range(len(amounts)):\n",
    "        writer.writerow([purposes[i], amounts[i]]) # store every data one by one\n",
    "        \n",
    "    \n",
    "if __name__ == \"__main__\": # this should run at the beginning\n",
    "    purposes = [] # initiating purposes and amounts as empty lists\n",
    "    amounts = []\n",
    "    while True:\n",
    "        print(\"\\nenter the number accordingly\")\n",
    "        print(\"\"\"1. Add Expense\n",
    "        2. Show total\n",
    "        3. Show Average\n",
    "        4. Show highest Expense\n",
    "        5. Display All Expense\n",
    "        6. Exit\n",
    "        \"\"\") # instruct the user about the function\n",
    "        choice = int(input(\"Enter your choice: \")) # prompt for the choice\n",
    "        if choice == 1: # calling the functions according to the input\n",
    "            purpose = input(\"Enter the purpose: \") # prompt these only when the user needs to add expense\n",
    "            amount = float(input(\"Enter the amount: \"))\n",
    "            add_expense(purpose, amount)\n",
    "        elif choice == 2:\n",
    "            show_total(amounts)\n",
    "        elif choice == 3:\n",
    "            show_average(amounts)\n",
    "        elif choice == 4:\n",
    "            show_highest_expense(purposes, amounts)\n",
    "        elif choice == 5:\n",
    "            display_all_expense(purposes, amounts)\n",
    "        elif choice == 6:\n",
    "            write_csv(purposes, amounts)\n",
    "            print(\"expenses saved\") # it will be displayed only the file is written\n",
    "            break\n",
    "        else:\n",
    "            print(\"Invalid choice. Please try again.\")"
   ]
  }
 ],
 "metadata": {
  "kernelspec": {
   "display_name": "Python 3 (ipykernel)",
   "language": "python",
   "name": "python3"
  },
  "language_info": {
   "codemirror_mode": {
    "name": "ipython",
    "version": 3
   },
   "file_extension": ".py",
   "mimetype": "text/x-python",
   "name": "python",
   "nbconvert_exporter": "python",
   "pygments_lexer": "ipython3",
   "version": "3.13.0"
  }
 },
 "nbformat": 4,
 "nbformat_minor": 5
}
