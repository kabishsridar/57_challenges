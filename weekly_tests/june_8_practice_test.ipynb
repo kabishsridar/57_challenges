{
 "cells": [
  {
   "cell_type": "code",
   "execution_count": 20,
   "id": "4c5333a2-0edb-47b1-902a-4bea68b218f8",
   "metadata": {},
   "outputs": [
    {
     "name": "stdin",
     "output_type": "stream",
     "text": [
      "Enter the string to be compressed:  aaabbbjj\n"
     ]
    },
    {
     "name": "stdout",
     "output_type": "stream",
     "text": [
      "a3b3j2\n"
     ]
    }
   ],
   "source": [
    "def compress_strings(string):\n",
    "    compressed = [] # initiating the compressed as an empty list, so that we can track the output in list format\n",
    "    output = \"\" # initiating the output as an empty string so that the output will be legible\n",
    "    count = 1 # initiating count as 1 to track the number of letters\n",
    "    for letter in range(1, len(string)): # loop through each letters in the given string\n",
    "        if string[letter] == string[letter - 1]: # check whether the current letter and the previous letters are the same\n",
    "            count += 1 # if they are same, increment 1 to the count\n",
    "        else:\n",
    "            compressed.append(string[letter - 1] + str(count)) # else, just append them to the empty list compressed\n",
    "            count = 1 \n",
    "\n",
    "    compressed.append(string[-1] + str(count)) # appending the output as the letter and followed by number of repetitions to the compressed list\n",
    "    print(output.join(compressed)) # making the list as a string through join operator, if we did not use this the output will be ['a',2,'b',3]\n",
    "example = input(\"Enter the string to be compressed: \") # prompting the user for the string\n",
    "compress_strings(example) # calling the function to execute"
   ]
  },
  {
   "cell_type": "code",
   "execution_count": 19,
   "id": "cfbf27db-5414-44d4-a167-9e17b5743eaa",
   "metadata": {},
   "outputs": [
    {
     "name": "stdout",
     "output_type": "stream",
     "text": [
      "sum of diagonal: 34\n"
     ]
    }
   ],
   "source": [
    "def sum_of_diagonal(matrix):\n",
    "    diagonal = 0\n",
    "    for i in range(4):\n",
    "        diagonal += matrix[i][i]\n",
    "    print(f\"sum of diagonal: {diagonal}\")\n",
    "matrix = [\n",
    "    [1,  2,  3,  4],\n",
    "    [5,  6,  7,  8],\n",
    "    [9, 10, 11, 12],\n",
    "    [13, 14, 15, 16]\n",
    "]\n",
    "sum_of_diagonal(matrix)"
   ]
  }
 ],
 "metadata": {
  "kernelspec": {
   "display_name": "Python 3 (ipykernel)",
   "language": "python",
   "name": "python3"
  },
  "language_info": {
   "codemirror_mode": {
    "name": "ipython",
    "version": 3
   },
   "file_extension": ".py",
   "mimetype": "text/x-python",
   "name": "python",
   "nbconvert_exporter": "python",
   "pygments_lexer": "ipython3",
   "version": "3.13.0"
  }
 },
 "nbformat": 4,
 "nbformat_minor": 5
}
