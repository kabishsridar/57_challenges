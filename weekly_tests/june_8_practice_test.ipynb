{
 "cells": [
  {
   "cell_type": "code",
   "execution_count": 9,
   "id": "4c5333a2-0edb-47b1-902a-4bea68b218f8",
   "metadata": {},
   "outputs": [
    {
     "name": "stdin",
     "output_type": "stream",
     "text": [
      "Enter the string to be compressed:  aabbaaacc\n"
     ]
    },
    {
     "name": "stdout",
     "output_type": "stream",
     "text": [
      "a2b2a3c2\n"
     ]
    }
   ],
   "source": [
    "def compress_strings(string):\n",
    "    compressed = []\n",
    "    output = \"\"\n",
    "    count = 1\n",
    "    for letter in range(1, len(string)):\n",
    "        if string[letter] == string[letter - 1]:\n",
    "            count += 1\n",
    "        else:\n",
    "            compressed.append(string[letter - 1] + str(count))\n",
    "            count = 1\n",
    "\n",
    "    compressed.append(string[-1] + str(count))\n",
    "    print(output.join(compressed))\n",
    "example = input(\"Enter the string to be compressed: \")\n",
    "compress_strings(example)"
   ]
  },
  {
   "cell_type": "code",
   "execution_count": 19,
   "id": "cfbf27db-5414-44d4-a167-9e17b5743eaa",
   "metadata": {},
   "outputs": [
    {
     "name": "stdout",
     "output_type": "stream",
     "text": [
      "sum of diagonal: 34\n"
     ]
    }
   ],
   "source": [
    "def sum_of_diagonal(matrix):\n",
    "    diagonal = 0\n",
    "    for i in range(4):\n",
    "        diagonal += matrix[i][i]\n",
    "    print(f\"sum of diagonal: {diagonal}\")\n",
    "matrix = [\n",
    "    [1,  2,  3,  4],\n",
    "    [5,  6,  7,  8],\n",
    "    [9, 10, 11, 12],\n",
    "    [13, 14, 15, 16]\n",
    "]\n",
    "sum_of_diagonal(matrix)"
   ]
  }
 ],
 "metadata": {
  "kernelspec": {
   "display_name": "Python 3 (ipykernel)",
   "language": "python",
   "name": "python3"
  },
  "language_info": {
   "codemirror_mode": {
    "name": "ipython",
    "version": 3
   },
   "file_extension": ".py",
   "mimetype": "text/x-python",
   "name": "python",
   "nbconvert_exporter": "python",
   "pygments_lexer": "ipython3",
   "version": "3.13.0"
  }
 },
 "nbformat": 4,
 "nbformat_minor": 5
}
