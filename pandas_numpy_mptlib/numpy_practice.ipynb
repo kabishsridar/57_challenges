{
 "cells": [
  {
   "cell_type": "code",
   "execution_count": 3,
   "id": "dadbf62f-0bd3-4aad-b8ca-fe092f4b99cc",
   "metadata": {},
   "outputs": [],
   "source": [
    "import numpy as np"
   ]
  },
  {
   "cell_type": "code",
   "execution_count": 6,
   "id": "7e54b7a7-1408-4b28-81c2-d8ec1a1fb8fc",
   "metadata": {},
   "outputs": [],
   "source": [
    "a = np.array([1, 2, 3]) # it stores the list in type of ndarray\n",
    "b = np.array([[1, 2], [3, 4]])"
   ]
  },
  {
   "cell_type": "code",
   "execution_count": 3,
   "id": "9f44e7a3-ab32-4a23-833e-c4442238ef7e",
   "metadata": {},
   "outputs": [
    {
     "name": "stdout",
     "output_type": "stream",
     "text": [
      "[1 2 3]\n"
     ]
    }
   ],
   "source": [
    "print(a)"
   ]
  },
  {
   "cell_type": "code",
   "execution_count": 4,
   "id": "dbae7c01-7b7e-4515-b18e-23bcfbae1b76",
   "metadata": {},
   "outputs": [
    {
     "name": "stdout",
     "output_type": "stream",
     "text": [
      "<class 'numpy.ndarray'>\n"
     ]
    }
   ],
   "source": [
    "print(type(a))"
   ]
  },
  {
   "cell_type": "code",
   "execution_count": 5,
   "id": "58f120cb-de3f-44c9-be26-cddc856112e6",
   "metadata": {},
   "outputs": [
    {
     "name": "stdout",
     "output_type": "stream",
     "text": [
      "<class 'numpy.ndarray'>\n"
     ]
    }
   ],
   "source": [
    "print(type(b))"
   ]
  },
  {
   "cell_type": "code",
   "execution_count": 7,
   "id": "862e318e-1dc3-43f7-ab79-6a12fa805651",
   "metadata": {},
   "outputs": [
    {
     "name": "stdout",
     "output_type": "stream",
     "text": [
      "[[1 2]\n",
      " [3 4]]\n"
     ]
    }
   ],
   "source": [
    "print(b)"
   ]
  },
  {
   "cell_type": "code",
   "execution_count": 8,
   "id": "c81ada1d-95c0-4fc7-8cc5-ecbb97e44ddb",
   "metadata": {},
   "outputs": [
    {
     "data": {
      "text/plain": [
       "array([[0.],\n",
       "       [0.],\n",
       "       [0.],\n",
       "       [0.]])"
      ]
     },
     "execution_count": 8,
     "metadata": {},
     "output_type": "execute_result"
    }
   ],
   "source": [
    "np.zeros([4,1])"
   ]
  },
  {
   "cell_type": "code",
   "execution_count": 10,
   "id": "96175e3a-123d-4ed6-a362-157e9d3890eb",
   "metadata": {},
   "outputs": [],
   "source": [
    "shape_x = [4, 1]\n",
    "shape_y = [1, 4]"
   ]
  },
  {
   "cell_type": "code",
   "execution_count": 12,
   "id": "7f3026f8-fa30-4bfc-a91e-f32add0f9c9e",
   "metadata": {},
   "outputs": [
    {
     "data": {
      "text/plain": [
       "array([[0.],\n",
       "       [0.],\n",
       "       [0.],\n",
       "       [0.]])"
      ]
     },
     "execution_count": 12,
     "metadata": {},
     "output_type": "execute_result"
    }
   ],
   "source": [
    "np.zeros(shape_x)"
   ]
  },
  {
   "cell_type": "code",
   "execution_count": 17,
   "id": "37eebf0b-bbf4-4819-9245-03013c2e58a5",
   "metadata": {},
   "outputs": [
    {
     "data": {
      "text/plain": [
       "array([[0., 0., 0., 0.]])"
      ]
     },
     "execution_count": 17,
     "metadata": {},
     "output_type": "execute_result"
    }
   ],
   "source": [
    "np.zeros(shape_y)"
   ]
  },
  {
   "cell_type": "code",
   "execution_count": 15,
   "id": "f0c5f099-bee5-42ff-a076-876c4ce713ab",
   "metadata": {},
   "outputs": [
    {
     "data": {
      "text/plain": [
       "array([[1., 1., 1., 1.]])"
      ]
     },
     "execution_count": 15,
     "metadata": {},
     "output_type": "execute_result"
    }
   ],
   "source": [
    "np.ones(shape_y)"
   ]
  },
  {
   "cell_type": "code",
   "execution_count": 16,
   "id": "07cd26cb-c503-42a1-a6bf-3725d8e60eae",
   "metadata": {},
   "outputs": [
    {
     "data": {
      "text/plain": [
       "array([[1., 0., 0., 0., 0.],\n",
       "       [0., 1., 0., 0., 0.],\n",
       "       [0., 0., 1., 0., 0.],\n",
       "       [0., 0., 0., 1., 0.],\n",
       "       [0., 0., 0., 0., 1.]])"
      ]
     },
     "execution_count": 16,
     "metadata": {},
     "output_type": "execute_result"
    }
   ],
   "source": [
    "np.eye(5)"
   ]
  },
  {
   "cell_type": "code",
   "execution_count": 19,
   "id": "8a2de082-2d1c-44b6-93df-6339ae279923",
   "metadata": {},
   "outputs": [
    {
     "data": {
      "text/plain": [
       "array([[7, 7, 7, 7]])"
      ]
     },
     "execution_count": 19,
     "metadata": {},
     "output_type": "execute_result"
    }
   ],
   "source": [
    "np.full([1, 4], 7)"
   ]
  },
  {
   "cell_type": "code",
   "execution_count": 21,
   "id": "2227bc8a-5b70-48ad-9126-a639b1a16f20",
   "metadata": {},
   "outputs": [
    {
     "data": {
      "text/plain": [
       "array([ 0,  2,  4,  6,  8, 10, 12, 14])"
      ]
     },
     "execution_count": 21,
     "metadata": {},
     "output_type": "execute_result"
    }
   ],
   "source": [
    "np.arange(start=0, stop=15, step=2)"
   ]
  },
  {
   "cell_type": "code",
   "execution_count": 23,
   "id": "41b73597-290e-48fb-b90a-ba02791bc468",
   "metadata": {},
   "outputs": [
    {
     "data": {
      "text/plain": [
       "array([ 0.  ,  3.75,  7.5 , 11.25, 15.  ])"
      ]
     },
     "execution_count": 23,
     "metadata": {},
     "output_type": "execute_result"
    }
   ],
   "source": [
    "np.linspace(0, 15, 5)"
   ]
  },
  {
   "cell_type": "code",
   "execution_count": 6,
   "id": "344abb3e-9e65-471e-95a4-83e6e4f62e55",
   "metadata": {},
   "outputs": [
    {
     "name": "stdout",
     "output_type": "stream",
     "text": [
      "[0.]\n"
     ]
    }
   ],
   "source": [
    "print(np.linspace(0, 5, 1))"
   ]
  },
  {
   "cell_type": "code",
   "execution_count": 7,
   "id": "7b7a9625-e0e7-4258-bfa6-385a22cd8eb6",
   "metadata": {},
   "outputs": [
    {
     "name": "stdout",
     "output_type": "stream",
     "text": [
      "[0. 5.]\n"
     ]
    }
   ],
   "source": [
    "print(np.linspace(0, 5, 2))"
   ]
  },
  {
   "cell_type": "code",
   "execution_count": 4,
   "id": "db8b264c-b8a2-4223-b8f9-0e101ee510f0",
   "metadata": {},
   "outputs": [
    {
     "data": {
      "text/plain": [
       "array([ 0. ,  2.5,  5. ,  7.5, 10. ])"
      ]
     },
     "execution_count": 4,
     "metadata": {},
     "output_type": "execute_result"
    }
   ],
   "source": [
    "np.linspace(0, 10, 5)"
   ]
  },
  {
   "cell_type": "code",
   "execution_count": 5,
   "id": "8644079e-8baf-4f27-8890-9b8bedeb8b39",
   "metadata": {},
   "outputs": [
    {
     "name": "stdout",
     "output_type": "stream",
     "text": [
      "[ 0.          0.90909091  1.81818182  2.72727273  3.63636364  4.54545455\n",
      "  5.45454545  6.36363636  7.27272727  8.18181818  9.09090909 10.        ]\n"
     ]
    }
   ],
   "source": [
    "print(np.linspace(0, 10, 12))"
   ]
  },
  {
   "cell_type": "code",
   "execution_count": 26,
   "id": "0e3464ce-8caf-4ae8-9a56-383e74477a28",
   "metadata": {},
   "outputs": [
    {
     "data": {
      "text/plain": [
       "array([[0.49135312, 0.03331357, 0.07418979, 0.62100702, 0.95218233,\n",
       "        0.55453989, 0.6733004 , 0.44352235, 0.28046657, 0.09743959,\n",
       "        0.11335926, 0.97168883, 0.02819551, 0.87520197, 0.11741795]])"
      ]
     },
     "execution_count": 26,
     "metadata": {},
     "output_type": "execute_result"
    }
   ],
   "source": [
    "np.random.rand(1, 15)"
   ]
  },
  {
   "cell_type": "code",
   "execution_count": 49,
   "id": "49197ee8-e825-4c59-8dee-2b83e4fef1b3",
   "metadata": {},
   "outputs": [
    {
     "data": {
      "text/plain": [
       "array([[ 2.19021057, -0.09318368,  0.29308393, -1.59851281,  2.02303756,\n",
       "         1.09309461,  1.76529421,  2.82218491,  0.91971701, -0.120473  ]])"
      ]
     },
     "execution_count": 49,
     "metadata": {},
     "output_type": "execute_result"
    }
   ],
   "source": [
    "np.random.randn(1, 10)"
   ]
  },
  {
   "cell_type": "code",
   "execution_count": 27,
   "id": "65af8893-5604-4896-9070-0e1fd93be39d",
   "metadata": {},
   "outputs": [
    {
     "data": {
      "text/plain": [
       "array([[-0.90839402, -0.7786137 ,  0.86486348,  2.02146956,  1.89603496,\n",
       "        -0.36091954,  0.62925421,  1.77352829,  0.87045426,  1.42118995,\n",
       "         0.84057049, -1.08280537,  1.88078112,  0.34404974,  1.58747848]])"
      ]
     },
     "execution_count": 27,
     "metadata": {},
     "output_type": "execute_result"
    }
   ],
   "source": [
    "np.random.randn(1, 15)"
   ]
  },
  {
   "cell_type": "code",
   "execution_count": 28,
   "id": "84adef8d-602b-4725-bf4e-b81d6aceb49f",
   "metadata": {},
   "outputs": [
    {
     "data": {
      "text/plain": [
       "array([19, 17, 11, 13, 10], dtype=int32)"
      ]
     },
     "execution_count": 28,
     "metadata": {},
     "output_type": "execute_result"
    }
   ],
   "source": [
    "np.random.randint(10, 25, 5)"
   ]
  },
  {
   "cell_type": "code",
   "execution_count": 29,
   "id": "decccbb1-c1d8-451d-b1ba-94070c1d964c",
   "metadata": {},
   "outputs": [],
   "source": [
    "a = np.array([5, 2, 3])\n",
    "b = np.array([21, 23, 46])"
   ]
  },
  {
   "cell_type": "code",
   "execution_count": 30,
   "id": "5ce8bc23-06ab-406d-8cd7-63fea557017f",
   "metadata": {},
   "outputs": [
    {
     "data": {
      "text/plain": [
       "array([26, 25, 49])"
      ]
     },
     "execution_count": 30,
     "metadata": {},
     "output_type": "execute_result"
    }
   ],
   "source": [
    "np.add(a, b)"
   ]
  },
  {
   "cell_type": "code",
   "execution_count": 31,
   "id": "b4610c09-f776-4f23-85e2-8ef99a9c6b4f",
   "metadata": {},
   "outputs": [
    {
     "data": {
      "text/plain": [
       "array([16, 21, 43])"
      ]
     },
     "execution_count": 31,
     "metadata": {},
     "output_type": "execute_result"
    }
   ],
   "source": [
    "np.subtract(b, a)"
   ]
  },
  {
   "cell_type": "code",
   "execution_count": 32,
   "id": "482be9cb-3b06-4408-a532-8827aa29fc94",
   "metadata": {},
   "outputs": [
    {
     "data": {
      "text/plain": [
       "array([105,  46, 138])"
      ]
     },
     "execution_count": 32,
     "metadata": {},
     "output_type": "execute_result"
    }
   ],
   "source": [
    "np.multiply(a, b)"
   ]
  },
  {
   "cell_type": "code",
   "execution_count": 34,
   "id": "69299c94-3595-4c87-b6dd-5034184863d1",
   "metadata": {},
   "outputs": [
    {
     "data": {
      "text/plain": [
       "array([0.23809524, 0.08695652, 0.06521739])"
      ]
     },
     "execution_count": 34,
     "metadata": {},
     "output_type": "execute_result"
    }
   ],
   "source": [
    "np.divide(a, b)"
   ]
  },
  {
   "cell_type": "code",
   "execution_count": 35,
   "id": "2a18a78c-7dbb-41ef-841a-4bfba89c5228",
   "metadata": {},
   "outputs": [
    {
     "data": {
      "text/plain": [
       "array([2.23606798, 1.41421356, 1.73205081])"
      ]
     },
     "execution_count": 35,
     "metadata": {},
     "output_type": "execute_result"
    }
   ],
   "source": [
    "np.sqrt(a)"
   ]
  },
  {
   "cell_type": "code",
   "execution_count": 36,
   "id": "ee931b15-aafa-489e-8a67-7ad03e3cd929",
   "metadata": {},
   "outputs": [
    {
     "data": {
      "text/plain": [
       "array([148.4131591 ,   7.3890561 ,  20.08553692])"
      ]
     },
     "execution_count": 36,
     "metadata": {},
     "output_type": "execute_result"
    }
   ],
   "source": [
    "np.exp(a)"
   ]
  },
  {
   "cell_type": "code",
   "execution_count": 37,
   "id": "1e53149c-d543-40d9-a3ab-e6b94be022c8",
   "metadata": {},
   "outputs": [
    {
     "data": {
      "text/plain": [
       "array([1.60943791, 0.69314718, 1.09861229])"
      ]
     },
     "execution_count": 37,
     "metadata": {},
     "output_type": "execute_result"
    }
   ],
   "source": [
    "np.log(a)"
   ]
  },
  {
   "cell_type": "code",
   "execution_count": 38,
   "id": "23eaa68c-29af-4164-9afb-e7cee59b5027",
   "metadata": {},
   "outputs": [
    {
     "name": "stdout",
     "output_type": "stream",
     "text": [
      "(3,)\n",
      "1\n",
      "3\n",
      "int64\n",
      "8\n"
     ]
    }
   ],
   "source": [
    "print(a.shape)\n",
    "print(a.ndim)\n",
    "print(a.size)\n",
    "print(a.dtype)\n",
    "print(a.itemsize)"
   ]
  },
  {
   "cell_type": "code",
   "execution_count": 39,
   "id": "d28404bf-119b-40c6-8729-6232535d5391",
   "metadata": {},
   "outputs": [
    {
     "data": {
      "text/plain": [
       "array([[21, 23],\n",
       "       [46, 79],\n",
       "       [26, 90]])"
      ]
     },
     "execution_count": 39,
     "metadata": {},
     "output_type": "execute_result"
    }
   ],
   "source": [
    "arr = b = np.array([[21, 23], [46, 79], [26, 90]]) # 2D array\n",
    "\n",
    "arr.reshape(3,2)"
   ]
  },
  {
   "cell_type": "code",
   "execution_count": 40,
   "id": "df86ec6a-7f2e-4b1d-b169-ae9327d52b01",
   "metadata": {},
   "outputs": [
    {
     "data": {
      "text/plain": [
       "array([21, 23, 46, 79, 26, 90])"
      ]
     },
     "execution_count": 40,
     "metadata": {},
     "output_type": "execute_result"
    }
   ],
   "source": [
    "arr.flatten()"
   ]
  },
  {
   "cell_type": "code",
   "execution_count": 41,
   "id": "9abf9198-c445-40a2-9252-1b39e6bc3fe8",
   "metadata": {},
   "outputs": [
    {
     "data": {
      "text/plain": [
       "array([[21, 46, 26],\n",
       "       [23, 79, 90]])"
      ]
     },
     "execution_count": 41,
     "metadata": {},
     "output_type": "execute_result"
    }
   ],
   "source": [
    "arr.T # it transposes"
   ]
  },
  {
   "cell_type": "code",
   "execution_count": 42,
   "id": "bd3cd637-0794-42bf-9328-1c5a1bb6afde",
   "metadata": {},
   "outputs": [
    {
     "name": "stdout",
     "output_type": "stream",
     "text": [
      "[46 79]\n",
      "[23 79 90]\n",
      "[[23]\n",
      " [79]]\n"
     ]
    }
   ],
   "source": [
    "# slicing \n",
    "print(arr[1])\n",
    "print(arr[:, 1])\n",
    "print(arr[0:2, 1:3])"
   ]
  },
  {
   "cell_type": "code",
   "execution_count": 58,
   "id": "38c84cc3-eefa-4fcf-b83b-2225bfbdb62e",
   "metadata": {},
   "outputs": [],
   "source": [
    "a = np.array([1, 2, 3])\n",
    "b = np.array([2, 4, 3])"
   ]
  },
  {
   "cell_type": "code",
   "execution_count": 53,
   "id": "7d79c638-96ae-4281-ba59-1065c1685678",
   "metadata": {},
   "outputs": [
    {
     "data": {
      "text/plain": [
       "np.int64(19)"
      ]
     },
     "execution_count": 53,
     "metadata": {},
     "output_type": "execute_result"
    }
   ],
   "source": [
    "b.dot(a)"
   ]
  },
  {
   "cell_type": "code",
   "execution_count": 54,
   "id": "53c91ea8-99c5-4b50-80ca-b678d001a6c1",
   "metadata": {},
   "outputs": [
    {
     "data": {
      "text/plain": [
       "np.int64(19)"
      ]
     },
     "execution_count": 54,
     "metadata": {},
     "output_type": "execute_result"
    }
   ],
   "source": [
    "a.dot(b)"
   ]
  },
  {
   "cell_type": "code",
   "execution_count": 59,
   "id": "e4b01f4f-11db-4c30-a303-fe81e2ccb336",
   "metadata": {},
   "outputs": [],
   "source": [
    "a = np.array([5, 2, 3])\n",
    "b = np.array([[21, 23], [46, 15], [37, 96]])"
   ]
  },
  {
   "cell_type": "code",
   "execution_count": 60,
   "id": "530fa739-7e9a-4bee-b760-ddf9af96a7a2",
   "metadata": {},
   "outputs": [
    {
     "data": {
      "text/plain": [
       "array([308, 433])"
      ]
     },
     "execution_count": 60,
     "metadata": {},
     "output_type": "execute_result"
    }
   ],
   "source": [
    "np.matmul(a, b)"
   ]
  },
  {
   "cell_type": "code",
   "execution_count": 63,
   "id": "35dd06fe-1241-4d7e-abd2-c62d1254853f",
   "metadata": {},
   "outputs": [
    {
     "name": "stdout",
     "output_type": "stream",
     "text": [
      "[[-6.81874741e-01  2.30609706e-01  1.27333057e-01]\n",
      " [ 6.26296143e-02 -2.84805751e-02 -1.38255219e-04]\n",
      " [ 5.33803401e-01 -1.61067330e-01 -1.02723628e-01]]\n",
      "7233.0000000000055\n",
      "EigResult(eigenvalues=array([121.06904706,  -1.24933346, -47.81971361]), eigenvectors=array([[-0.32630264, -0.785426  , -0.07554985],\n",
      "       [-0.55334986,  0.06383352, -0.63914221],\n",
      "       [-0.76637492,  0.61565516,  0.76536884]]))\n"
     ]
    }
   ],
   "source": [
    "b = np.array([[21, 23, 26], [46, 15, 57], [37, 96, 36]])\n",
    "\n",
    "print(np.linalg.inv(b))   # Inverse\n",
    "print(np.linalg.det(b))   # Determinant\n",
    "print(np.linalg.eig(b)) "
   ]
  }
 ],
 "metadata": {
  "kernelspec": {
   "display_name": "Python 3 (ipykernel)",
   "language": "python",
   "name": "python3"
  },
  "language_info": {
   "codemirror_mode": {
    "name": "ipython",
    "version": 3
   },
   "file_extension": ".py",
   "mimetype": "text/x-python",
   "name": "python",
   "nbconvert_exporter": "python",
   "pygments_lexer": "ipython3",
   "version": "3.13.0"
  }
 },
 "nbformat": 4,
 "nbformat_minor": 5
}
