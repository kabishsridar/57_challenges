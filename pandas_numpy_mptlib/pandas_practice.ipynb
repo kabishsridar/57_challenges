{
 "cells": [
  {
   "cell_type": "code",
   "execution_count": 13,
   "id": "2e37199c-4c90-4eb9-b184-af95eefe4b2d",
   "metadata": {},
   "outputs": [],
   "source": [
    "import pandas as pd\n",
    "import shutil\n",
    "import warnings\n",
    "warnings.filterwarnings('ignore')"
   ]
  },
  {
   "cell_type": "code",
   "execution_count": 14,
   "id": "cf9c6853-bd99-4be0-8bb8-bc231a8dd927",
   "metadata": {},
   "outputs": [],
   "source": [
    "#extracting the data\n",
    "shutil.unpack_archive('archive.zip')"
   ]
  },
  {
   "cell_type": "code",
   "execution_count": 17,
   "id": "f54322f7-89f1-4ded-b2b4-fe3b44ee724f",
   "metadata": {},
   "outputs": [],
   "source": [
    "#making a simple list\n",
    "\n",
    "simple_list = [1,56,79,862,57]"
   ]
  }
 ],
 "metadata": {
  "kernelspec": {
   "display_name": "Python 3 (ipykernel)",
   "language": "python",
   "name": "python3"
  },
  "language_info": {
   "codemirror_mode": {
    "name": "ipython",
    "version": 3
   },
   "file_extension": ".py",
   "mimetype": "text/x-python",
   "name": "python",
   "nbconvert_exporter": "python",
   "pygments_lexer": "ipython3",
   "version": "3.13.0"
  }
 },
 "nbformat": 4,
 "nbformat_minor": 5
}
