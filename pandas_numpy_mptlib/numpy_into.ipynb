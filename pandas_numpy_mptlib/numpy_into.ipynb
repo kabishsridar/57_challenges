{
 "cells": [
  {
   "cell_type": "code",
   "execution_count": 1,
   "id": "f9626545-73dd-4808-b446-9db160d3f27c",
   "metadata": {},
   "outputs": [],
   "source": [
    "import numpy as np"
   ]
  },
  {
   "cell_type": "code",
   "execution_count": 2,
   "id": "681068b1-1b4f-4474-94bd-410de0d9224f",
   "metadata": {},
   "outputs": [],
   "source": [
    "a = np.array([1, 2, 3])               # 1D array\n",
    "b = np.array([[1, 2], [3, 4]])        # 2D array"
   ]
  },
  {
   "cell_type": "markdown",
   "id": "70c54663-ba00-47c4-95a7-b73b5fc82f6c",
   "metadata": {},
   "source": [
    "| Function                             | Description                         |\n",
    "| ------------------------------------ | ----------------------------------- |\n",
    "| `np.zeros(shape)`                    | Array filled with 0                 |\n",
    "| `np.ones(shape)`                     | Array filled with 1                 |\n",
    "| `np.eye(n)`                          | Identity matrix                     |\n",
    "| `np.full(shape, val)`                | Filled with a specific value        |\n",
    "| `np.arange(start, stop, step)`       | Like `range()`                      |\n",
    "| `np.linspace(start, stop, num)`      | Evenly spaced values                |\n",
    "| `np.random.rand(m, n)`               | Uniform distribution \\[0,1)         |\n",
    "| `np.random.randn(m, n)`              | Normal distribution (mean=0, std=1) |\n",
    "| `np.random.randint(low, high, size)` | Random integers                     |\n"
   ]
  },
  {
   "cell_type": "code",
   "execution_count": 4,
   "id": "c4fccebc-962f-402c-84cd-d7b122df741c",
   "metadata": {},
   "outputs": [],
   "source": [
    "shape_x = [4, 1]\n",
    "shape_y = [1, 4]"
   ]
  },
  {
   "cell_type": "code",
   "execution_count": 5,
   "id": "00d99ccb-7299-4a40-b43f-e85b7fc0f109",
   "metadata": {},
   "outputs": [
    {
     "data": {
      "text/plain": [
       "array([[0.],\n",
       "       [0.],\n",
       "       [0.],\n",
       "       [0.]])"
      ]
     },
     "execution_count": 5,
     "metadata": {},
     "output_type": "execute_result"
    }
   ],
   "source": [
    "np.zeros(shape_x)"
   ]
  },
  {
   "cell_type": "code",
   "execution_count": 6,
   "id": "66958f9c-8ea1-4a67-b655-ff17ba7ae9ba",
   "metadata": {
    "jupyter": {
     "source_hidden": true
    }
   },
   "outputs": [
    {
     "data": {
      "text/plain": [
       "array([[0., 0., 0., 0.]])"
      ]
     },
     "execution_count": 6,
     "metadata": {},
     "output_type": "execute_result"
    }
   ],
   "source": [
    "np.zeros(shape_y)"
   ]
  },
  {
   "cell_type": "code",
   "execution_count": 7,
   "id": "c9452e51-7930-46fc-9773-8d1688bb6de8",
   "metadata": {},
   "outputs": [
    {
     "data": {
      "text/plain": [
       "array([[1.],\n",
       "       [1.],\n",
       "       [1.],\n",
       "       [1.]])"
      ]
     },
     "execution_count": 7,
     "metadata": {},
     "output_type": "execute_result"
    }
   ],
   "source": [
    "np.ones(shape_x)"
   ]
  },
  {
   "cell_type": "code",
   "execution_count": 8,
   "id": "d8372f44-951a-4394-a825-d15be3a08201",
   "metadata": {},
   "outputs": [
    {
     "data": {
      "text/plain": [
       "array([[1., 1., 1., 1.]])"
      ]
     },
     "execution_count": 8,
     "metadata": {},
     "output_type": "execute_result"
    }
   ],
   "source": [
    "np.ones(shape_y)"
   ]
  },
  {
   "cell_type": "code",
   "execution_count": 9,
   "id": "24c4ae43-5eab-4e83-9fe6-985148076422",
   "metadata": {},
   "outputs": [
    {
     "data": {
      "text/plain": [
       "array([[1., 0., 0., 0., 0.],\n",
       "       [0., 1., 0., 0., 0.],\n",
       "       [0., 0., 1., 0., 0.],\n",
       "       [0., 0., 0., 1., 0.],\n",
       "       [0., 0., 0., 0., 1.]])"
      ]
     },
     "execution_count": 9,
     "metadata": {},
     "output_type": "execute_result"
    }
   ],
   "source": [
    "np.eye(5)"
   ]
  },
  {
   "cell_type": "code",
   "execution_count": 10,
   "id": "2ac634ec-d2dd-4487-9810-fa9f746ceb43",
   "metadata": {},
   "outputs": [
    {
     "data": {
      "text/plain": [
       "array([[7, 7, 7, 7]])"
      ]
     },
     "execution_count": 10,
     "metadata": {},
     "output_type": "execute_result"
    }
   ],
   "source": [
    "np.full(shape_y, 7)"
   ]
  },
  {
   "cell_type": "code",
   "execution_count": 11,
   "id": "5f7fe086-ae65-420a-a836-c9d933bfdbd0",
   "metadata": {},
   "outputs": [
    {
     "data": {
      "text/plain": [
       "array([[7],\n",
       "       [7],\n",
       "       [7],\n",
       "       [7]])"
      ]
     },
     "execution_count": 11,
     "metadata": {},
     "output_type": "execute_result"
    }
   ],
   "source": [
    "np.full(shape_x, 7)"
   ]
  },
  {
   "cell_type": "code",
   "execution_count": 12,
   "id": "b5e3cc57-eda4-4295-8f04-afb33333709e",
   "metadata": {},
   "outputs": [
    {
     "data": {
      "text/plain": [
       "array([ 0,  2,  4,  6,  8, 10, 12, 14])"
      ]
     },
     "execution_count": 12,
     "metadata": {},
     "output_type": "execute_result"
    }
   ],
   "source": [
    "np.arange(start=0, stop=15, step=2)"
   ]
  },
  {
   "cell_type": "code",
   "execution_count": 13,
   "id": "e9363720-a1e7-49f8-9cf4-02eff0aee160",
   "metadata": {},
   "outputs": [
    {
     "data": {
      "text/plain": [
       "array([ 0.  ,  3.75,  7.5 , 11.25, 15.  ])"
      ]
     },
     "execution_count": 13,
     "metadata": {},
     "output_type": "execute_result"
    }
   ],
   "source": [
    "np.linspace(0, 15, 5)"
   ]
  },
  {
   "cell_type": "code",
   "execution_count": 15,
   "id": "19471857-ffca-45bd-b660-8ecf8c58849d",
   "metadata": {},
   "outputs": [
    {
     "data": {
      "text/plain": [
       "array([[0.76721349, 0.57515248, 0.79340187, 0.92698533, 0.12606634,\n",
       "        0.86286972, 0.90253316, 0.56609542, 0.24982883, 0.51855829,\n",
       "        0.69378798, 0.1006268 , 0.93326364, 0.11394291, 0.12000728]])"
      ]
     },
     "execution_count": 15,
     "metadata": {},
     "output_type": "execute_result"
    }
   ],
   "source": [
    "# Uniform distribution [0,1)\n",
    "np.random.rand(1, 15)"
   ]
  },
  {
   "cell_type": "code",
   "execution_count": 16,
   "id": "7f61b699-bbd0-4ae3-8f35-b981359df3bf",
   "metadata": {},
   "outputs": [
    {
     "data": {
      "text/plain": [
       "array([[-0.41557218, -0.0088557 , -0.65686774, -0.48254845,  0.35614775,\n",
       "         0.40717352, -1.6119606 , -0.53538556,  0.6659154 , -0.68300212,\n",
       "        -1.65985029, -1.60131747, -0.30157137, -1.39300703,  0.60295887]])"
      ]
     },
     "execution_count": 16,
     "metadata": {},
     "output_type": "execute_result"
    }
   ],
   "source": [
    "# Normal distribution (mean=0, std=1)\n",
    "np.random.randn(1, 15)"
   ]
  },
  {
   "cell_type": "code",
   "execution_count": 17,
   "id": "c3f4b341-c80f-4e09-98fa-da090d782a16",
   "metadata": {},
   "outputs": [
    {
     "data": {
      "text/plain": [
       "array([20, 21, 13, 10, 12])"
      ]
     },
     "execution_count": 17,
     "metadata": {},
     "output_type": "execute_result"
    }
   ],
   "source": [
    "np.random.randint(10, 25, 5)"
   ]
  },
  {
   "cell_type": "code",
   "execution_count": 24,
   "id": "a71c4a41-ec6a-46c3-93b6-abf1ef137ff3",
   "metadata": {},
   "outputs": [],
   "source": [
    "a = np.array([5, 2, 3])               # 1D array\n",
    "b = np.array([[21, 23, 46]])        # 2D array"
   ]
  },
  {
   "cell_type": "code",
   "execution_count": 25,
   "id": "a3c1fc38-08ce-4181-ba84-bdb7443d7316",
   "metadata": {},
   "outputs": [
    {
     "data": {
      "text/plain": [
       "array([[26, 25, 49]])"
      ]
     },
     "execution_count": 25,
     "metadata": {},
     "output_type": "execute_result"
    }
   ],
   "source": [
    "np.add(a, b)"
   ]
  },
  {
   "cell_type": "code",
   "execution_count": 26,
   "id": "028283bf-5ea9-4147-b573-5950df3d35fa",
   "metadata": {},
   "outputs": [
    {
     "data": {
      "text/plain": [
       "array([[-16, -21, -43]])"
      ]
     },
     "execution_count": 26,
     "metadata": {},
     "output_type": "execute_result"
    }
   ],
   "source": [
    "np.subtract(a ,b)"
   ]
  },
  {
   "cell_type": "code",
   "execution_count": 27,
   "id": "5b1b3770-4189-498a-8abb-02c65e05faab",
   "metadata": {},
   "outputs": [
    {
     "data": {
      "text/plain": [
       "array([[105,  46, 138]])"
      ]
     },
     "execution_count": 27,
     "metadata": {},
     "output_type": "execute_result"
    }
   ],
   "source": [
    "np.multiply(a, b)"
   ]
  },
  {
   "cell_type": "code",
   "execution_count": 28,
   "id": "c4dbc0ec-31d7-465f-bdc0-160e912c8e58",
   "metadata": {},
   "outputs": [
    {
     "data": {
      "text/plain": [
       "array([[0.23809524, 0.08695652, 0.06521739]])"
      ]
     },
     "execution_count": 28,
     "metadata": {},
     "output_type": "execute_result"
    }
   ],
   "source": [
    "np.divide(a, b)"
   ]
  },
  {
   "cell_type": "code",
   "execution_count": 29,
   "id": "b430025e-79de-4499-a30d-09957008e908",
   "metadata": {},
   "outputs": [
    {
     "data": {
      "text/plain": [
       "array([2.23606798, 1.41421356, 1.73205081])"
      ]
     },
     "execution_count": 29,
     "metadata": {},
     "output_type": "execute_result"
    }
   ],
   "source": [
    "np.sqrt(a)"
   ]
  },
  {
   "cell_type": "code",
   "execution_count": 30,
   "id": "57be891c-5502-4836-a162-3bb5d587572b",
   "metadata": {},
   "outputs": [
    {
     "data": {
      "text/plain": [
       "array([148.4131591 ,   7.3890561 ,  20.08553692])"
      ]
     },
     "execution_count": 30,
     "metadata": {},
     "output_type": "execute_result"
    }
   ],
   "source": [
    "np.exp(a)"
   ]
  },
  {
   "cell_type": "code",
   "execution_count": 31,
   "id": "0a5a902c-8dd5-4c4c-9a59-5129da65c9f3",
   "metadata": {},
   "outputs": [
    {
     "data": {
      "text/plain": [
       "array([1.60943791, 0.69314718, 1.09861229])"
      ]
     },
     "execution_count": 31,
     "metadata": {},
     "output_type": "execute_result"
    }
   ],
   "source": [
    "np.log(a)"
   ]
  },
  {
   "cell_type": "code",
   "execution_count": 32,
   "id": "ae1ddc49-3a86-495f-b81c-dda886387f7e",
   "metadata": {},
   "outputs": [
    {
     "name": "stdout",
     "output_type": "stream",
     "text": [
      "(3,)\n",
      "1\n",
      "3\n",
      "int64\n",
      "8\n"
     ]
    }
   ],
   "source": [
    "print(a.shape)\n",
    "print(a.ndim)\n",
    "print(a.size)\n",
    "print(a.dtype)\n",
    "print(a.itemsize)"
   ]
  },
  {
   "cell_type": "code",
   "execution_count": 36,
   "id": "be973c5e-42ff-4d09-9984-2d651f4cafec",
   "metadata": {},
   "outputs": [
    {
     "data": {
      "text/plain": [
       "array([[21, 23],\n",
       "       [46, 79],\n",
       "       [26, 90]])"
      ]
     },
     "execution_count": 36,
     "metadata": {},
     "output_type": "execute_result"
    }
   ],
   "source": [
    "arr = b = np.array([[21, 23], [46, 79], [26, 90]]) # 2D array\n",
    "\n",
    "arr.reshape(3,2)"
   ]
  },
  {
   "cell_type": "code",
   "execution_count": 37,
   "id": "07efa96b-9a71-47e4-94db-ed5e9ad83740",
   "metadata": {},
   "outputs": [
    {
     "data": {
      "text/plain": [
       "array([21, 23, 46, 79, 26, 90])"
      ]
     },
     "execution_count": 37,
     "metadata": {},
     "output_type": "execute_result"
    }
   ],
   "source": [
    "arr.flatten()"
   ]
  },
  {
   "cell_type": "code",
   "execution_count": 38,
   "id": "c375bd1d-34c4-40a7-9545-828d4f2f0527",
   "metadata": {},
   "outputs": [
    {
     "data": {
      "text/plain": [
       "array([[21, 46, 26],\n",
       "       [23, 79, 90]])"
      ]
     },
     "execution_count": 38,
     "metadata": {},
     "output_type": "execute_result"
    }
   ],
   "source": [
    "arr.T"
   ]
  },
  {
   "cell_type": "code",
   "execution_count": 40,
   "id": "d72fd856-dbb8-4799-898f-36b37f211b44",
   "metadata": {},
   "outputs": [
    {
     "name": "stdout",
     "output_type": "stream",
     "text": [
      "[46 79]\n",
      "[[46 79]]\n",
      "[23 79 90]\n",
      "[[23]\n",
      " [79]]\n"
     ]
    }
   ],
   "source": [
    "print(arr[1])         # Get element at index 1\n",
    "print(arr[1:2])       # Get slice\n",
    "print(arr[:, 1])      # Get second column\n",
    "print(arr[0:2, 1:3])  # Get submatrix"
   ]
  },
  {
   "cell_type": "code",
   "execution_count": 43,
   "id": "8aceec1f-c579-411a-8a01-9204f5c14eb6",
   "metadata": {},
   "outputs": [],
   "source": [
    "a = np.random.randint(low=5, high=70, size=7)\n",
    "b = np.random.randint(low=15, high=90, size=7)"
   ]
  },
  {
   "cell_type": "code",
   "execution_count": 44,
   "id": "3c52905d-cbb0-4f8f-ac55-03a744aa9d90",
   "metadata": {},
   "outputs": [
    {
     "data": {
      "text/plain": [
       "np.int64(7544)"
      ]
     },
     "execution_count": 44,
     "metadata": {},
     "output_type": "execute_result"
    }
   ],
   "source": [
    "a.dot(b)           # Matrix multiplication"
   ]
  },
  {
   "cell_type": "code",
   "execution_count": 50,
   "id": "92c95c57-a6c9-4d7e-9172-939564636082",
   "metadata": {},
   "outputs": [],
   "source": [
    "a = np.array([5, 2, 3])               # 1D array\n",
    "b = np.array([[21, 23], [46, 15], [37, 96]])        # 2D array"
   ]
  },
  {
   "cell_type": "code",
   "execution_count": 51,
   "id": "5a932746-a7e7-41e7-99f9-b54336990984",
   "metadata": {},
   "outputs": [
    {
     "data": {
      "text/plain": [
       "array([308, 433])"
      ]
     },
     "execution_count": 51,
     "metadata": {},
     "output_type": "execute_result"
    }
   ],
   "source": [
    "np.matmul(a, b)"
   ]
  },
  {
   "cell_type": "code",
   "execution_count": 54,
   "id": "fb6e4d3c-2115-4af3-87e8-b9f86c9fa046",
   "metadata": {},
   "outputs": [
    {
     "name": "stdout",
     "output_type": "stream",
     "text": [
      "[[-6.81874741e-01  2.30609706e-01  1.27333057e-01]\n",
      " [ 6.26296143e-02 -2.84805751e-02 -1.38255219e-04]\n",
      " [ 5.33803401e-01 -1.61067330e-01 -1.02723628e-01]]\n",
      "7233.0000000000055\n",
      "EigResult(eigenvalues=array([121.06904706,  -1.24933346, -47.81971361]), eigenvectors=array([[-0.32630264, -0.785426  , -0.07554985],\n",
      "       [-0.55334986,  0.06383352, -0.63914221],\n",
      "       [-0.76637492,  0.61565516,  0.76536884]]))\n"
     ]
    }
   ],
   "source": [
    "b = np.array([[21, 23, 26], [46, 15, 57], [37, 96, 36]])        # 2D array\n",
    "\n",
    "print(np.linalg.inv(b))   # Inverse\n",
    "print(np.linalg.det(b))   # Determinant\n",
    "print(np.linalg.eig(b)) "
   ]
  },
  {
   "cell_type": "markdown",
   "id": "0991a6e3-4ee5-48f5-ad20-e20f4e732940",
   "metadata": {},
   "source": [
    "| Function         | Description        |\n",
    "| ---------------- | ------------------ |\n",
    "| `np.mean(arr)`   | Mean               |\n",
    "| `np.median(arr)` | Median             |\n",
    "| `np.std(arr)`    | Standard deviation |\n",
    "| `np.sum(arr)`    | Sum                |\n",
    "| `np.min(arr)`    | Minimum            |\n",
    "| `np.max(arr)`    | Maximum            |\n",
    "| `np.argmax(arr)` | Index of max       |\n",
    "| `np.argmin(arr)` | Index of min       |\n",
    "| `np.unique(arr)` | Unique values      |"
   ]
  },
  {
   "cell_type": "code",
   "execution_count": 58,
   "id": "9012be11-4e74-4c94-9db0-156f5897bb58",
   "metadata": {},
   "outputs": [
    {
     "name": "stdout",
     "output_type": "stream",
     "text": [
      "39.666666666666664\n",
      "36.0\n",
      "23.466287875730725\n",
      "357\n",
      "15\n",
      "96\n",
      "4\n",
      "7\n",
      "[15 21 23 26 36 37 46 57 96]\n"
     ]
    }
   ],
   "source": [
    "print(np.mean(b))\n",
    "print(np.median(b))\n",
    "print(np.std(b))\n",
    "print(np.sum(b))\n",
    "print(np.min(b))\n",
    "print(np.max(b))\n",
    "print(np.argmin(b))\n",
    "print(np.argmax(b))\n",
    "print(np.unique(b))"
   ]
  }
 ],
 "metadata": {
  "kernelspec": {
   "display_name": "Python 3 (ipykernel)",
   "language": "python",
   "name": "python3"
  },
  "language_info": {
   "codemirror_mode": {
    "name": "ipython",
    "version": 3
   },
   "file_extension": ".py",
   "mimetype": "text/x-python",
   "name": "python",
   "nbconvert_exporter": "python",
   "pygments_lexer": "ipython3",
   "version": "3.13.0"
  }
 },
 "nbformat": 4,
 "nbformat_minor": 5
}
