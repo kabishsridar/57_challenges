{
 "cells": [
  {
   "cell_type": "code",
   "execution_count": 2,
   "id": "43f2e1f1-9454-403c-9702-e280d907cce2",
   "metadata": {},
   "outputs": [
    {
     "name": "stdin",
     "output_type": "stream",
     "text": [
      "direction to move:  north\n"
     ]
    },
    {
     "name": "stdout",
     "output_type": "stream",
     "text": [
      "Welcome to the volleyball game, kabish\n",
      "The charcter moved north\n"
     ]
    }
   ],
   "source": [
    "class Game:\n",
    "    def __init__(self, player_name, game_name):\n",
    "        self.player_name = player_name\n",
    "        self.game_name = game_name\n",
    "    def moves(self, move_input):\n",
    "        print(f\"Welcome to the {self.game_name} game, {self.player_name}\")\n",
    "        print(f\"The charcter moved {move_input}\")\n",
    "        \n",
    "play = Game(\"kabish\", \"volleyball\")\n",
    "move = input(\"direction to move: \")\n",
    "play.moves(move)"
   ]
  }
 ],
 "metadata": {
  "kernelspec": {
   "display_name": "Python 3 (ipykernel)",
   "language": "python",
   "name": "python3"
  },
  "language_info": {
   "codemirror_mode": {
    "name": "ipython",
    "version": 3
   },
   "file_extension": ".py",
   "mimetype": "text/x-python",
   "name": "python",
   "nbconvert_exporter": "python",
   "pygments_lexer": "ipython3",
   "version": "3.13.0"
  }
 },
 "nbformat": 4,
 "nbformat_minor": 5
}
