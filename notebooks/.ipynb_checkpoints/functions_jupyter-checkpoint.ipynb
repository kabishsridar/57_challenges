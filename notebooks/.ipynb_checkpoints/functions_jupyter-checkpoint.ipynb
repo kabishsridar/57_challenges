{
 "cells": [
  {
   "cell_type": "code",
   "execution_count": 14,
   "id": "dd625cec-998b-4827-bc5b-88b4126def39",
   "metadata": {},
   "outputs": [
    {
     "name": "stdout",
     "output_type": "stream",
     "text": [
      "number of words:  2\n"
     ]
    }
   ],
   "source": [
    "def word_count(words): # defining a function word_count\n",
    "    word_count = words.count(' ') + 1  # counting the number of words by using count() function with the help of spaces, number of spaces + 1 will be the number of words\n",
    "    print(\"number of words: \",word_count) # displaying final output\n",
    "string = \"hello world\"\n",
    "word_count(string)"
   ]
  },
  {
   "cell_type": "code",
   "execution_count": 22,
   "id": "a227d7ca-83a8-4a25-899c-bc59c631bc71",
   "metadata": {},
   "outputs": [
    {
     "name": "stdin",
     "output_type": "stream",
     "text": [
      "enter radius(m):  5\n",
      "enter height(m):  4\n"
     ]
    },
    {
     "name": "stdout",
     "output_type": "stream",
     "text": [
      "volume of the cone is: 104.66666666666667 m\n"
     ]
    }
   ],
   "source": [
    "def cone_volume(r,h):  # defining a function named cone volume\n",
    "    volume=(1/3)*3.14*r*r*h # formula for volume of cone is 1/3 *pi*r**2*h\n",
    "    print(f\"volume of the cone is: {volume} m\") # displaying the final output\n",
    "radius=float(input(\"enter radius(m): \"))  # getting an input from user for radius\n",
    "height=float(input(\"enter height(m): \"))  # getting an input from user for height\n",
    "cone_volume(radius, height)"
   ]
  },
  {
   "cell_type": "code",
   "execution_count": 23,
   "id": "6bccded1-803f-46f6-bd94-3adade0eb4f1",
   "metadata": {},
   "outputs": [
    {
     "name": "stdin",
     "output_type": "stream",
     "text": [
      "Enter number of successful three-point shots for the Apples:  5\n",
      "Enter number of successful two-point shots for the Apples:  4\n",
      "Enter number of successful one-point free throw for the Apples:  2\n"
     ]
    },
    {
     "name": "stdout",
     "output_type": "stream",
     "text": [
      "------------------------------------------------------------------------------------------------------------------------------------------------------\n"
     ]
    },
    {
     "name": "stdin",
     "output_type": "stream",
     "text": [
      "Enter number of successful three-point shots for the Bananas:  5\n",
      "Enter number of successful two-point shots for the Bananas:  4\n",
      "Enter number of successful one-point free throw for the Banana:  1\n"
     ]
    },
    {
     "name": "stdout",
     "output_type": "stream",
     "text": [
      "APPLES WON\n"
     ]
    }
   ],
   "source": [
    "def apples_vs_bananas(Apples_3, Apples_2, Apples_1, Bananas_3, Bananas_2, Bananas_1):\n",
    "    # first get all the input from user for all type of shots and store it.\n",
    "    \n",
    "\n",
    "    # Here three point shots represent that for one shot the number of points we get will be multiplied by three\n",
    "    # For two point shots the number of points we get will be multiplied by two\n",
    "    # For one point shot the number of point we get will be multiplied by one\n",
    "\n",
    "    Apples_total = Apples_3 *3 + Apples_2 * 2 + Apples_1 * 1  # apples_3 is multiplied by 3 because it is a three point shot, apples_2 is multiplied by 2 for 2 point shots and apples_1 is multiplied by 1 for one point shot\n",
    "    Bananas_total = Bananas_3*3 + Bananas_2 * 2 + Bananas_1 * 1  # the same phenomenon like apples for bananas\n",
    "\n",
    "    if Apples_total > Bananas_total:  # checking the condition if apples_total is higher than bananas_total it should print apples won\n",
    "        print(\"APPLES WON\")\n",
    "    elif Bananas_total> Apples_total: # checking the condition if bananas_total is higher than apples_total it should print bananas won\n",
    "        print(\"BANANAS WON\")\n",
    "    else:\n",
    "        print(\"Tie\")  # if both are in the same point it returns tie, it returns only when both the if and elif character is false\n",
    "A3 = int(input(\"Enter number of successful three-point shots for the Apples: \")) \n",
    "A2 = int(input(\"Enter number of successful two-point shots for the Apples: \"))\n",
    "A1 = int(input(\"Enter number of successful one-point free throw for the Apples: \"))\n",
    "print(\"-\" * 150)  # just to make the output more readable\n",
    "B3 = int(input(\"Enter number of successful three-point shots for the Bananas: \"))\n",
    "B2 = int(input(\"Enter number of successful two-point shots for the Bananas: \"))\n",
    "B1 = int(input(\"Enter number of successful one-point free throw for the Banana: \"))\n",
    "apples_vs_bananas(A3, A2, A1, B3, B2, B1)"
   ]
  },
  {
   "cell_type": "code",
   "execution_count": 24,
   "id": "cbf4c606-0760-46a1-9200-177e9fdc746c",
   "metadata": {},
   "outputs": [
    {
     "name": "stdin",
     "output_type": "stream",
     "text": [
      "enter four number with seperating by spaces:  8 2 2 9\n"
     ]
    },
    {
     "name": "stdout",
     "output_type": "stream",
     "text": [
      "ignore\n"
     ]
    }
   ],
   "source": [
    "def telemarketer(num):\n",
    "    lst = num.split() # it removes the spaces and store the integers sepearately in form ['num1','num2','num3','num4']\n",
    "    num1 = int(lst[0]) # seperating all four integers into four different variables so that we can check each of them one by one\n",
    "    num2 = int(lst[1])\n",
    "    num3 = int(lst[2])\n",
    "    num4 = int(lst[3])\n",
    "\n",
    "    if (num1 == 8 or num1 == 9) and (num4 == 8 or num4 == 9) and (num2 == num3): \n",
    "        print(\"ignore\")\n",
    "    else:\n",
    "        print(\"answer\")\n",
    "num = input(\"enter four number with seperating by spaces: \")  # the user can give all four numbers in a single go which makes user friendly\n",
    "telemarketer(num)"
   ]
  },
  {
   "cell_type": "code",
   "execution_count": 26,
   "id": "17fbd5bd-10c0-4d28-bb12-732981f28888",
   "metadata": {},
   "outputs": [
    {
     "name": "stdout",
     "output_type": "stream",
     "text": [
      "\n",
      "ball is in the left cup (1) in beginning\n",
      "    A Swap the left and middle cups\n",
      "    B Swap the middle and right cups\n",
      "    C Swap the left and right cups\n",
      "    \n"
     ]
    },
    {
     "name": "stdin",
     "output_type": "stream",
     "text": [
      "Enter the sequence(like ABC or BCA by using only A,B,C):  ABACAB\n"
     ]
    },
    {
     "name": "stdout",
     "output_type": "stream",
     "text": [
      "Please enter only A, B or C, the letter A is not mentioned in the sequence\n",
      "The ball is in cup  3\n"
     ]
    }
   ],
   "source": [
    "def ball_under_cups(sequence):\n",
    "    \"\"\"\n",
    "    This function simulates the game of swapping cups and finding the location of a ball.\n",
    "    The user is prompted to enter a sequence of swaps, and the final location of the ball is displayed.\n",
    "    \"\"\"\n",
    "\n",
    "    \n",
    "    \n",
    "    loc = 1 # as it is mentioned in the question that the ball is in first cup so loc means ball location and it is in 1st cup\n",
    "    for swap in sequence.upper(): # changing the sequence to upper for consistency and it loop through each single character (swap) in the input (sequence) and swap mentioned here is A or B or C \n",
    "        if swap == 'A' and loc == 1:\n",
    "            loc = 2\n",
    "        elif swap == 'A' and loc == 2:\n",
    "            loc = 1  # it is given so that if A repeats 2 or 3 times the location should change\n",
    "        elif swap =='B' and loc == 2:\n",
    "            loc = 3\n",
    "        elif swap == 'B' and loc == 3:\n",
    "            loc = 2\n",
    "        elif swap == 'C' and loc == 1:\n",
    "            loc = 3\n",
    "        elif swap=='C' and loc == 3:\n",
    "            loc = 1\n",
    "        else: # if something is in the input other than a, b, c it should not return the output\n",
    "            print(f\"Please enter only A, B or C, the letter {swap} is not mentioned in the sequence\")\n",
    "    if swap in \"abcABC\": # checks whether the swap is a,b,c,A,B,C\n",
    "        print(\"The ball is in cup \",loc) # displaying the final output\n",
    "print('''\\nball is in the left cup (1) in beginning\n",
    "    A Swap the left and middle cups\n",
    "    B Swap the middle and right cups\n",
    "    C Swap the left and right cups\n",
    "    ''') # it should be printed in terminal so that the user can understand the concept\n",
    "sequence = input(\"Enter the sequence(like ABC or BCA by using only A,B,C): \") # get the input from the user for the sequence to move the cup\n",
    "ball_under_cups(sequence)"
   ]
  },
  {
   "cell_type": "code",
   "execution_count": 28,
   "id": "a0ede956-5371-410b-abd0-aefd1df24a3e",
   "metadata": {},
   "outputs": [
    {
     "name": "stdout",
     "output_type": "stream",
     "text": [
      "Enter c for occupied space and . for empty space for example C..C for 4 spaces\n"
     ]
    },
    {
     "name": "stdin",
     "output_type": "stream",
     "text": [
      "Enter the sequence:  c.cc.\n",
      "Enter the sequence:  cc.cc\n"
     ]
    },
    {
     "name": "stdout",
     "output_type": "stream",
     "text": [
      "number of spaces occupied on both days:  2\n"
     ]
    }
   ],
   "source": [
    "def parking_spaces(yesterday, today): # defining the function parking_spaces with three parameters\n",
    "      \n",
    "    occupied = 0\n",
    "    for space in range(len(yesterday)): # loop through the number of characters in yesterday\n",
    "        if (yesterday[space] == 'C' or yesterday[space] == 'c') and (today[space] == 'C' or today[space] == 'c'): # spacef both yesterday and today's space is occupied, it will increase for every loop\n",
    "            occupied = occupied + 1  # the occupied variable should be increased for every space\n",
    "    print(\"number of spaces occupied on both days: \",occupied) # displaying the output\n",
    "\n",
    "print(\"Enter c for occupied space and . for empty space for example C..C for 4 spaces\") # explaining the user about this programme\n",
    "yesterday = input(\"Enter the sequence: \") # checking whether seat is occupied or not c is occupied seat and . is empty seat\n",
    "today = input(\"Enter the sequence: \") # checking whether the seat is occupied today or not and the same as yesterday\n",
    "parking_spaces(yesterday, today) "
   ]
  },
  {
   "cell_type": "code",
   "execution_count": 63,
   "id": "23fffed5-0e2e-417e-831e-603ff2f44fc3",
   "metadata": {},
   "outputs": [],
   "source": [
    "def data_plan(mbpm, months, used_lst):\n",
    "    excess = 0  # Initiating excess as 0\n",
    "    for mb_used in used_lst:  # Iterating through actual usage data\n",
    "        excess += mbpm - mb_used  # Updating excess MB balance\n",
    "\n",
    "    print(f\"The amount of MB available for next month: {excess + mbpm}\")  # Adding next month's MB allocation\n"
   ]
  },
  {
   "cell_type": "code",
   "execution_count": 62,
   "id": "d0869f4d-b69d-464c-94b2-3d5a5c068555",
   "metadata": {},
   "outputs": [
    {
     "name": "stdout",
     "output_type": "stream",
     "text": [
      "Data Plan Programme:\n"
     ]
    },
    {
     "name": "stdin",
     "output_type": "stream",
     "text": [
      "Enter amount of MB provided per month:  15\n",
      "Enter the number of months:  4\n",
      "Enter amount of MB used in each month (separated by spaces):  15 12 12 15\n"
     ]
    },
    {
     "name": "stdout",
     "output_type": "stream",
     "text": [
      "The amount of MB available for next month: 21\n"
     ]
    }
   ],
   "source": [
    "print(\"Data Plan Programme:\")  # Displaying program name\n",
    "mbpm = int(input(\"Enter amount of MB provided per month: \"))  # Getting amount of MB provided per month\n",
    "months = int(input(\"Enter the number of months: \"))  # Getting number of months\n",
    "used = input(\"Enter amount of MB used in each month (separated by spaces): \")  # Asking for multiple values\n",
    "used_lst = used.split()  # Splitting input into a list of strings\n",
    "\n",
    "# Converting string list to integers using a loop\n",
    "for i in range(len(used_lst)):\n",
    "    used_lst[i] = int(used_lst[i])\n",
    "\n",
    "data_plan(mbpm, months, used_lst)"
   ]
  },
  {
   "cell_type": "code",
   "execution_count": 16,
   "id": "a9e10ca3-5b1a-4f04-99a0-b6aa6762d77f",
   "metadata": {},
   "outputs": [
    {
     "name": "stdin",
     "output_type": "stream",
     "text": [
      "Enter the number of quarters Martha has(1 yo 1000):  200\n"
     ]
    },
    {
     "name": "stdout",
     "output_type": "stream",
     "text": [
      "Enter the number of times that the slot machine has been played since it last paid\n"
     ]
    },
    {
     "name": "stdin",
     "output_type": "stream",
     "text": [
      "FIRST machine:  36\n",
      "SECOND machine:  101\n",
      "THIRD machine:  11\n"
     ]
    },
    {
     "name": "stdout",
     "output_type": "stream",
     "text": [
      "Martha plays 200 times before she has 1 quarters.\n"
     ]
    }
   ],
   "source": [
    "def martha_slot_machine(quarters, first_machine_count, second_machine_count, third_machine_count):\n",
    "\n",
    "    plays = 0 # initiating plays and machine as 0\n",
    "    machine = 0\n",
    "\n",
    "    while quarters >= 1:  # she can play only if she has 1 or more than 1 quarters\n",
    "        quarters = quarters - 1 # one quarter is reduced for one play\n",
    "\n",
    "        if machine == 0: # at starting we initiated machine as 0, so it will start from here and repeat as 0,1,2,0,1,2... and so on\n",
    "            first_machine_count += 1 # the number of first_machine_count should increase once when the first machine is used \n",
    "            if first_machine_count == 35:\n",
    "                first_machine_count = 0  # for every 35th count it should start new as it is awarded 30 quarters for each 35th time\n",
    "                quarters += 30  # it pays 30 quarters for every 35th time played\n",
    "        elif machine == 1: # after the execution of first if statement, in the last we added machine = machine + 1 so that now it will be 1 and it will pass to elif condition (machine = 1) \n",
    "            second_machine_count += 1\n",
    "            if second_machine_count == 100:\n",
    "                second_machine_count = 0\n",
    "                quarters += 60 # it pays 60 quarter for every 100th time played\n",
    "        elif machine == 2: # after the execution of elif statement, in the last we added machine = machine + 1 so that now it will be 2 and it will pass to elif condition (machine = 2) \n",
    "            third_machine_count += 1\n",
    "            if third_machine_count == 10:\n",
    "                third_machine_count = 0\n",
    "                quarters += 9 # it pays 9 quarters every 10th time played\n",
    "\n",
    "        plays += 1  # these both should increase for every number of plays\n",
    "        machine += 1\n",
    "        if machine == 3:\n",
    "            machine = 0  # because it is mentioned that she plays them in order until she has no quarters left as 0,1,2,0,1,2...\n",
    "\n",
    "    print('Martha plays', plays, 'times before she has 1 quarters.') # displaying the output\n",
    "quarters = int(input(\"Enter the number of quarters Martha has(1 yo 1000): \"))  # get the number of querters from user and store it in integer form (here quarter mean the ticket to play in casino) \n",
    "print(\"Enter the number of times that the slot machine has been played since it last paid\")\n",
    "first_machine_count = int(input(\"FIRST machine: \")) # get the input from user for the number of times that the slot machine has been played since it last paid\n",
    "second_machine_count = int(input(\"SECOND machine: \"))\n",
    "third_machine_count = int(input(\"THIRD machine: \"))\n",
    "martha_slot_machine(quarters, first_machine_count, second_machine_count, third_machine_count)  # call the function martha_slot_machine with the input values"
   ]
  },
  {
   "cell_type": "code",
   "execution_count": 10,
   "id": "7560df8b-6652-4ed1-aa06-b7cd6ead7f46",
   "metadata": {},
   "outputs": [
    {
     "name": "stdout",
     "output_type": "stream",
     "text": [
      "SONGS PLAYLIST APP\n",
      "normal sequence of playlist: ABCDE\n",
      "\n",
      "        Button1 to move first song to end\n",
      "        Button2 to move last song to beginning\n",
      "        Button3 to swap first two songs\n",
      "        Button4 to play the playlist\n",
      "        \n"
     ]
    },
    {
     "name": "stdin",
     "output_type": "stream",
     "text": [
      "Enter button number between 1 to 4:  1\n",
      "Enter number of times to press the button (1 to 10):  5\n",
      "Enter button number between 1 to 4:  2\n",
      "Enter number of times to press the button (1 to 10):  8\n",
      "Enter button number between 1 to 4:  4\n"
     ]
    },
    {
     "name": "stdout",
     "output_type": "stream",
     "text": [
      "Final Playlist: C D E A B\n"
     ]
    }
   ],
   "source": [
    "def songs_playlist():\n",
    "    print(\"SONGS PLAYLIST APP\") # displaying the user about this programme\n",
    "    songs = 'ABCDE' # default order of song playlist\n",
    "    print(\"normal sequence of playlist: ABCDE\")\n",
    "    print(\"\"\"\n",
    "        Button1 to move first song to end\n",
    "        Button2 to move last song to beginning\n",
    "        Button3 to swap first two songs\n",
    "        Button4 to play the playlist\n",
    "        \"\"\")\n",
    "    while True: # loops untill the button number is 4\n",
    "        \n",
    "        Nbutton = int(input(\"Enter button number between 1 to 4: \")) # gets an input as informing to select the button\n",
    "\n",
    "        if Nbutton == 4:\n",
    "            break  # Exit and play the playlist\n",
    "\n",
    "        if Nbutton < 1 or Nbutton > 4: # we have only 4 buttons 1,2,3,4 except these any other are not defined \n",
    "            print(\"Invalid button. Please enter a number from 1 to 4.\")\n",
    "            continue\n",
    "\n",
    "        Ntimes = int(input(\"Enter number of times to press the button (1 to 10): \")) # number of times to press the button\n",
    "\n",
    "        if Ntimes < 1 or Ntimes > 10:\n",
    "            print(\"Invalid number of presses. Must be between 1 and 10.\")\n",
    "            continue\n",
    "\n",
    "        for i in range(Ntimes): # it will loop the number of times the button is pressed\n",
    "            if Nbutton == 1:\n",
    "                songs = songs[1:] + songs[0]  # Move first song to the end\n",
    "            elif Nbutton == 2:\n",
    "                songs = songs[-1] + songs[:-1]  # Move last song to the beginning\n",
    "            elif Nbutton == 3:\n",
    "                if len(songs) >= 2:\n",
    "                    songs = songs[1] + songs[0] + songs[2:]  # Swap first two\n",
    "\n",
    "    print(\"Final Playlist:\", ' '.join(songs))\n",
    "    # it will end only when you press 4\n",
    "songs_playlist()"
   ]
  },
  {
   "cell_type": "code",
   "execution_count": 64,
   "id": "8c315fbe-4eb6-45e8-955c-c85e51ffae0d",
   "metadata": {},
   "outputs": [
    {
     "name": "stdin",
     "output_type": "stream",
     "text": [
      "enter the secret encoded sentence:  ipi lohgvehg yojfu\n"
     ]
    },
    {
     "name": "stdout",
     "output_type": "stream",
     "text": [
      "decoded sentence:  i love you\n"
     ]
    }
   ],
   "source": [
    "def decode_secret(secret): # function to decode the secret code\n",
    "    vowel = ['a','e','i','o','u','A','E','I','O','U'] # assigning vowel letters to a list named vowel \n",
    "    decoded = \"\" # initiating decoded as an empty string\n",
    "    letter = 0 # initiating letter to be 0\n",
    "    while letter <len(secret): # it will loop number of times if it is a vowel it will move by 3 and those two indices will not be looped and if it is a consonant it will move consecutively\n",
    "        decoded += secret[letter] # add current character to decoded\n",
    "        if secret[letter] in vowel: # if it is vowel skip next two characters\n",
    "            letter = letter+3 # move by three index if it is a vowel\n",
    "        else:\n",
    "            letter = letter+1 # move one index if it is consonant\n",
    "    print(\"decoded sentence: \",decoded) # display the final output\n",
    "secret = list(input(\"enter the secret encoded sentence: \")) # get an input of that secret code which we need to work with\n",
    "decode_secret(secret)\n"
   ]
  },
  {
   "cell_type": "code",
   "execution_count": 65,
   "id": "17e4965e-6358-4fe2-a6b9-e71a23b91e10",
   "metadata": {},
   "outputs": [
    {
     "name": "stdin",
     "output_type": "stream",
     "text": [
      "Enter the number of villages (at least 3):  4\n",
      "Enter the positions of the villages (separated by spaces):  12 15 43 13\n"
     ]
    },
    {
     "name": "stdout",
     "output_type": "stream",
     "text": [
      "Sorted positions of villages: [12, 13, 15, 43]\n",
      "The smallest neighborhood size is: 1.5\n"
     ]
    }
   ],
   "source": [
    "def village_neighborhoods(n, positions):\n",
    "    if n < 3:\n",
    "        print(\"You need at least 3 villages to calculate neighborhoods.\")\n",
    "        exit()  # Exit if the number of villages is less than 3\n",
    "\n",
    "    positions.sort()  # Sorting village positions\n",
    "    print(\"Sorted positions of villages:\", positions)\n",
    "\n",
    "    min_size = float('inf')  # Setting min_size to infinity\n",
    "\n",
    "    for i in range(1, n - 1):  # Excluding the first and last village\n",
    "        previous = positions[i - 1]  # Previous village\n",
    "        next = positions[i + 1]  # Next village\n",
    "        size = (next - previous) / 2  # Neighborhood size\n",
    "\n",
    "        if size < min_size:  # Update min_size if a smaller neighborhood size is found\n",
    "            min_size = size\n",
    "\n",
    "    print(f\"The smallest neighborhood size is: {min_size:.1f}\")\n",
    "\n",
    "# Getting user input\n",
    "n = int(input(\"Enter the number of villages (at least 3): \"))\n",
    "pos = input(\"Enter the positions of the villages (separated by spaces): \")\n",
    "\n",
    "# Converting position input into a list of integers\n",
    "pos_lst = pos.split()\n",
    "positions = []  # Empty list to store positions\n",
    "for i in pos_lst:\n",
    "    positions.append(int(i))  # Convert and store as integers\n",
    "\n",
    "# Calling the function\n",
    "village_neighborhoods(n, positions)"
   ]
  },
  {
   "cell_type": "code",
   "execution_count": 66,
   "id": "a4578384-4a3b-4e51-83f6-22d11a259b0f",
   "metadata": {},
   "outputs": [
    {
     "name": "stdin",
     "output_type": "stream",
     "text": [
      "Trip cost($) between 50 and 50000:  250\n",
      "Total number of students (4 to 2000):  4\n",
      "Proportion of students per year (e.g. 0.25 0.25 0.25 0.25):  0.20 0.20 0.30 0.30\n"
     ]
    },
    {
     "name": "stdout",
     "output_type": "stream",
     "text": [
      "YES, More funds needed\n",
      "Total raised: $12, Half of trip cost: $125.00\n"
     ]
    }
   ],
   "source": [
    "cost = [12, 10, 7, 5] # 1st year = $12, 2nd year = $10, 3rd year = $7, 4th year = $5\n",
    "\n",
    "# Loop for 10 trips\n",
    "for i in range(10):\n",
    "    tcost = int(input(\"Trip cost($) between 50 and 50000: \")) # prompt the user for total trip cost\n",
    "\n",
    "    num_students = int(input(\"Total number of students (4 to 2000): \")) # prompt the user for number of students\n",
    "\n",
    "    proportion_input = input(\"Proportion of students per year (e.g. 0.25 0.25 0.25 0.25): \").split() # prompt the user for proportion and store it as a list and split it\n",
    "\n",
    "    for i in range(len(proportion_input)): # loop through each proportion_input\n",
    "        proportion_input[i] = float(proportion_input[i]) # convert all those to gloating values\n",
    "\n",
    "    students_per_year = [] # initiating students_per_year to an empty list\n",
    "    for proportion in proportion_input: # loop through each proportion_input\n",
    "        students = int(num_students * proportion)  # Convert to integer and multiply num_students and proportion of current student\n",
    "        students_per_year.append(students) # add it to students_per_year list\n",
    "\n",
    "    total_raised = 0\n",
    "    for i in range(len(students_per_year)): # loop through each item in students_per_year\n",
    "        total_raised = total_raised + students_per_year[i] * cost[i]  # Multiply students by cost per year\n",
    "\n",
    "    # check if at least half of the trip cost is covered\n",
    "    if total_raised / 2 < tcost:\n",
    "        print(\"YES, More funds needed\")  # More funds are needed\n",
    "    else:\n",
    "        print(\"NO, funds are enough\")  # Enough funds are raised\n",
    "\n",
    "    print(f\"Total raised: ${total_raised}, Half of trip cost: ${tcost / 2:.2f}\")\n",
    "    break\n"
   ]
  },
  {
   "cell_type": "code",
   "execution_count": 17,
   "id": "4299f904-278e-4fd8-af29-ae8892ff81ad",
   "metadata": {},
   "outputs": [],
   "source": [
    "wordout = open('index.html', 'w') # creating a html file\n",
    "code = '''\n",
    "<html>\n",
    "<head>\n",
    "<title>index</title>\n",
    "</head>\n",
    "<body>\n",
    "<p>WELCOME TO THE WEBSITE</p> # this line and the next line will be displayed in the website\n",
    "<h1 style=\"test-align:center;\">KABISH</h1>\n",
    "</body>\n",
    "</html>\n",
    "'''\n",
    "wordout.write(code) # insering the code into the crreated html file\n",
    "wordout.close() # closing the function"
   ]
  },
  {
   "cell_type": "code",
   "execution_count": 18,
   "id": "ac405826-4ad7-41f2-b96e-1246d3850445",
   "metadata": {},
   "outputs": [
    {
     "name": "stdin",
     "output_type": "stream",
     "text": [
      "Enter your name:  kabish\n"
     ]
    },
    {
     "name": "stdout",
     "output_type": "stream",
     "text": [
      "welcome kabish\n"
     ]
    }
   ],
   "source": [
    "from random import randint # importing random module\n",
    "class Start(object):\n",
    "    def __init__(self, name):\n",
    "        self.name = name # assigning name attirbute\n",
    "    def welcome(self):\n",
    "        welcomes = [\"welcome to the real world of programming\", \"heartly welcome to you, we can begin\", \"welcome\"]\n",
    "        print(welcomes[randint(0, len(welcomes) - 1)] + \" \" + self.name)\n",
    "name = input(\"Enter your name: \") # prompting the user for name\n",
    "welcome = Start(name) # using the class Start and executing the function\n",
    "welcome.welcome() # calling the function"
   ]
  },
  {
   "cell_type": "code",
   "execution_count": 19,
   "id": "2d9f7bb5-ea67-45ef-b13e-0c692b2f5e69",
   "metadata": {},
   "outputs": [
    {
     "name": "stdout",
     "output_type": "stream",
     "text": [
      "welcome Kabish\n",
      "heartly welcome to you, we can begin Kabish\n",
      "Welcome to football\n"
     ]
    },
    {
     "name": "stdin",
     "output_type": "stream",
     "text": [
      "move:  north\n"
     ]
    },
    {
     "name": "stdout",
     "output_type": "stream",
     "text": [
      "Type the direction to move the character accordingly to the direction (north, east, west, south)\n",
      "The character moved north\n"
     ]
    }
   ],
   "source": [
    "class Game: # defining a class Game\n",
    "    def __init__(self, game_name, player_name): # initialising the class Game with game_name and player_name \n",
    "        self.player_name = player_name # assigning attribute player_name\n",
    "        self.game_name = game_name # assinging attribute game_name\n",
    "    def welcome(self):\n",
    "        welcomes = [\"welcome to the real world of programming\", \"heartly welcome to you, we can begin\", \"welcome\"]\n",
    "        print(welcomes[randint(0, len(welcomes) - 1)] + \" \" + self.player_name) # creatnig a random welcome message from the list of welcomes with name\n",
    "        print(f\"Welcome to {self.game_name}\") # welcome message with game name\n",
    "    def moves(self,move_input):\n",
    "        print(\"Type the direction to move the character accordingly to the direction (north, east, west, south)\")\n",
    "        print(f\"The character moved {move_input}\") # this function will take the input from user and display the direction in which the character moved\n",
    "\n",
    "welcome = Start(\"Kabish\") # using the Start class which is defined in the above cell\n",
    "welcome.welcome() # calling the welcome function from the Start class\n",
    "\n",
    "play = Game(\"football\",\"Kabish\") # creating an instance of Game class with game_name and player_name\n",
    "play.welcome() # calling the welcome method\n",
    "move = input(\"move: \") # prompoting the user for the direction to move the character\n",
    "play.moves(move) # calling the moves method"
   ]
  },
  {
   "cell_type": "code",
   "execution_count": 20,
   "id": "c5e375e6-e1fe-411c-b768-e8b673119f01",
   "metadata": {},
   "outputs": [],
   "source": [
    "game_1 = Game(\"Go cart\", \"player1\") # calling the class Game and storing the game name and player name with use of the functions in Game class\n",
    "game_2 = Game(\"Mariiobrothers\", \"player2\")\n",
    "game_3 = Game(\"Dave\", \"player3\")"
   ]
  },
  {
   "cell_type": "code",
   "execution_count": 21,
   "id": "99c1b605-c7a9-445e-99d4-1d80dae6d3ad",
   "metadata": {},
   "outputs": [
    {
     "name": "stdout",
     "output_type": "stream",
     "text": [
      "welcome player1\n",
      "Welcome to Go cart\n",
      "heartly welcome to you, we can begin player2\n",
      "Welcome to Mariiobrothers\n",
      "welcome to the real world of programming player3\n",
      "Welcome to Dave\n"
     ]
    }
   ],
   "source": [
    "game_1.welcome() # calling the function to execute\n",
    "game_2.welcome()\n",
    "game_3.welcome()"
   ]
  }
 ],
 "metadata": {
  "kernelspec": {
   "display_name": "Python 3 (ipykernel)",
   "language": "python",
   "name": "python3"
  },
  "language_info": {
   "codemirror_mode": {
    "name": "ipython",
    "version": 3
   },
   "file_extension": ".py",
   "mimetype": "text/x-python",
   "name": "python",
   "nbconvert_exporter": "python",
   "pygments_lexer": "ipython3",
   "version": "3.13.0"
  }
 },
 "nbformat": 4,
 "nbformat_minor": 5
}
