{
 "cells": [
  {
   "cell_type": "code",
   "execution_count": 2,
   "id": "3cb215ca-5315-47fb-97a7-5e8831f4ee59",
   "metadata": {},
   "outputs": [
    {
     "name": "stdout",
     "output_type": "stream",
     "text": [
      "number of words:  2\n"
     ]
    }
   ],
   "source": [
    "def word_count(words): # defining a function word_count\n",
    "    word_count = words.count(' ') + 1  # counting the number of words by using count() function with the help of spaces, number of spaces + 1 will be the number of words\n",
    "    print(\"number of words: \",word_count) # displaying final output\n",
    "string = \"hello world\"\n",
    "word_count(string)"
   ]
  },
  {
   "cell_type": "code",
   "execution_count": 4,
   "id": "a227d7ca-83a8-4a25-899c-bc59c631bc71",
   "metadata": {},
   "outputs": [
    {
     "name": "stdin",
     "output_type": "stream",
     "text": [
      "enter radius(m):  4\n",
      "enter height(m):  5\n"
     ]
    },
    {
     "name": "stdout",
     "output_type": "stream",
     "text": [
      "volume of the cone is:  83.73333333333333  m\n"
     ]
    }
   ],
   "source": [
    "def cone_volume():  # defining a function named cone volume\n",
    "    radius=float(input(\"enter radius(m): \"))  # getting an input from user for radius\n",
    "    height=float(input(\"enter height(m): \"))  # getting an input from user for height\n",
    "    volume=(1/3)*3.14*radius*radius*height # formula for volume of cone is 1/3 *pi*r**2*h\n",
    "    print(\"volume of the cone is: \",volume,\" m\") # displaying the final output\n",
    "cone_volume()"
   ]
  },
  {
   "cell_type": "code",
   "execution_count": 5,
   "id": "23fffed5-0e2e-417e-831e-603ff2f44fc3",
   "metadata": {},
   "outputs": [
    {
     "name": "stdout",
     "output_type": "stream",
     "text": [
      "Data Plan Programme:\n"
     ]
    },
    {
     "name": "stdin",
     "output_type": "stream",
     "text": [
      "Enter amount of mb provided per month:  20\n",
      "Enter the number of months:  4\n",
      "Enter amount of mb used in month 1:  12\n",
      "Enter amount of mb used in month 2:  13\n",
      "Enter amount of mb used in month 3:  14\n",
      "Enter amount of mb used in month 4:  20\n"
     ]
    },
    {
     "name": "stdout",
     "output_type": "stream",
     "text": [
      "The amount of mb for the next month:  41\n"
     ]
    }
   ],
   "source": [
    "def data_plan():\n",
    "    print(\"Data Plan Programme:\") # displaying programme name\n",
    "    mbpm = int(input(\"Enter amount of mb provided per month: \")) # getting amount of mb provided per month (mbpm indicates mb per month)\n",
    "    months = int(input(\"Enter the number of months: \")) # getting number of months to calculate\n",
    "\n",
    "    excess = 0 # initiating excess as 0\n",
    "\n",
    "    for i in range(months): # it repeats for every month\n",
    "        used = int(input(f\"Enter amount of mb used in month {i + 1}: \"))  # get input from user about amount of mb used in that particular month\n",
    "        excess = excess + mbpm - used # the remaining mb will be stored in variable named excess\n",
    "\n",
    "    print(\"The amount of mb for the next month: \",excess + mbpm)\n",
    "    # here we added mbpm again as it indicates the mb allotted for next month including the previous moth excess mb\n",
    "data_plan()"
   ]
  },
  {
   "cell_type": "code",
   "execution_count": 6,
   "id": "13133af1-911a-40e4-b772-a05e8670a357",
   "metadata": {},
   "outputs": [
    {
     "data": {
      "text/plain": [
       "'kabishsridar6@gmail.com'"
      ]
     },
     "execution_count": 6,
     "metadata": {},
     "output_type": "execute_result"
    }
   ],
   "source": [
    "def clean(address): # define a function named clean(address)\n",
    "    address = address.lower() # convert it to lowercase a=for consistency\n",
    "    at = address.find('@') # we need to remove characters before @ symbol so we need to find it first, for that we use find \n",
    "    before_at = address[:at] # after finding the index of @ , we seperated it as before_at and after_at to remove before_at and add after_at\n",
    "    after_at = address[at:]\n",
    "\n",
    "    plus = before_at.find('+') # afer the + is not required, so we should remove them, for that we need to find +\n",
    "    if plus != -1: # if plus symbol is not at last before_at should be the string before at and after plus\n",
    "        before_at = before_at[:plus] # this is the unwanted string to be removed\n",
    "\n",
    "    cleaned_before_at = '' # initiate cleaned_before_at as an empty string\n",
    "    i = 0 # initiate i to 0\n",
    "    while i < len(before_at):  # repeat for each character before the @ symbol\n",
    "        if before_at[i] != '.':  # If the character is not a dot, add it to the cleaned string\n",
    "            cleaned_before_at += before_at[i] # the before_at will be added to cleaned_before_at\n",
    "        i += 1  # Move to the next character\n",
    "\n",
    "    cleaned = cleaned_before_at + after_at # it is the correct email address named cleaned\n",
    "    return cleaned\n",
    "mail = \"kabishsridar6+higuyswelcome@gmail.com\"\n",
    "clean(mail)"
   ]
  },
  {
   "cell_type": "code",
   "execution_count": 7,
   "id": "cbf4c606-0760-46a1-9200-177e9fdc746c",
   "metadata": {},
   "outputs": [
    {
     "name": "stdin",
     "output_type": "stream",
     "text": [
      "enter four number with seperating by spaces:  8 1 1 9\n"
     ]
    },
    {
     "name": "stdout",
     "output_type": "stream",
     "text": [
      "ignore\n"
     ]
    }
   ],
   "source": [
    "def telemarketer():\n",
    "    num = input(\"enter four number with seperating by spaces: \")  # the user can give all four numbers in a single go which makes user friendly\n",
    "    lst = num.split() # it removes the spaces and store the integers sepearately in form ['num1','num2','num3','num4']\n",
    "    num1 = int(lst[0]) # seperating all four integers into four different variables so that we can check each of them one by one\n",
    "    num2 = int(lst[1])\n",
    "    num3 = int(lst[2])\n",
    "    num4 = int(lst[3])\n",
    "\n",
    "    if (num1 == 8 or num1 == 9) and (num4 == 8 or num4 == 9) and (num2 == num3): \n",
    "        print(\"ignore\")\n",
    "    else:\n",
    "        print(\"answer\")\n",
    "telemarketer()"
   ]
  },
  {
   "cell_type": "code",
   "execution_count": 8,
   "id": "8c315fbe-4eb6-45e8-955c-c85e51ffae0d",
   "metadata": {},
   "outputs": [
    {
     "name": "stdin",
     "output_type": "stream",
     "text": [
      "enter the secret encoded sentence:  ipi lijgkehg yojgu\n"
     ]
    },
    {
     "name": "stdout",
     "output_type": "stream",
     "text": [
      "decoded sentence:  i like you\n"
     ]
    }
   ],
   "source": [
    "def decode_secret(): # function to decode the secret code\n",
    "    secret = list(input(\"enter the secret encoded sentence: \")) # get an input of that secret code which we need to work with\n",
    "    vowel = ['a','e','i','o','u','A','E','I','O','U'] # assigning vowel letters to a list named vowel \n",
    "    decoded = \"\" # initiating decoded as an empty string\n",
    "    letter = 0 # initiating letter to be 0\n",
    "    while letter <len(secret): # it will loop number of times if it is a vowel it will move by 3 and those two indices will not be looped and if it is a consonant it will move consecutively\n",
    "        decoded += secret[letter] # add current character to decoded\n",
    "        if secret[letter] in vowel: # if it is vowel skip next two characters\n",
    "            letter = letter+3 # move by three index if it is a vowel\n",
    "        else:\n",
    "            letter = letter+1 # move one index if it is consonant\n",
    "    print(\"decoded sentence: \",decoded) # display the final output\n",
    "decode_secret()\n"
   ]
  },
  {
   "cell_type": "code",
   "execution_count": 1,
   "id": "19b4c9b7-88fd-4de9-8918-20e0ef3e02ec",
   "metadata": {},
   "outputs": [
    {
     "name": "stdin",
     "output_type": "stream",
     "text": [
      "Enter number of franchisees and number of days (separated by a space):  3 4\n",
      "Enter sales for Day 1 (space-separated for 3 franchisees):  13 4 2 39\n"
     ]
    },
    {
     "name": "stdout",
     "output_type": "stream",
     "text": [
      "You must enter exactly 3 numbers. Try again.\n"
     ]
    },
    {
     "name": "stdin",
     "output_type": "stream",
     "text": [
      "Enter sales for Day 1 (space-separated for 3 franchisees):  13 39 24\n",
      "Enter sales for Day 2 (space-separated for 3 franchisees):  14 39 26\n",
      "Enter sales for Day 3 (space-separated for 3 franchisees):  15 13 13\n",
      "Enter sales for Day 4 (space-separated for 3 franchisees):  13 39 26\n"
     ]
    },
    {
     "name": "stdout",
     "output_type": "stream",
     "text": [
      "Total bonus awarded: 16\n"
     ]
    }
   ],
   "source": [
    "def bonus_calculation():\n",
    "    input_data = input(\"Enter number of franchisees and number of days (separated by a space): \") # prompt the user for number of franchisees and number of days\n",
    "    lst = input_data.split() # split the data and store it as lst\n",
    "    f = int(lst[0])  # Number of franchisees (column)\n",
    "    d = int(lst[1])  # Number of days (row)\n",
    "\n",
    "    grid = [] # initiating grid as an empty list\n",
    "\n",
    "    for day_index in range(d): # loop through each days\n",
    "        while True: # it breaks if the else statement executes\n",
    "            # get input for sales data for the current day\n",
    "            row_input = input(f\"Enter sales for Day {day_index + 1} (space-separated for {f} franchisees): \").split() # convert into list and split it\n",
    "\n",
    "            # Check that the user entered the correct number of values\n",
    "            if len(row_input) != f:\n",
    "                print(f\"You must enter exactly {f} numbers. Try again.\")\n",
    "            else:\n",
    "                row = [] # initiating row as an empty list\n",
    "                for value in row_input: # loop through each sales data\n",
    "                    row.append(int(value)) # append those data to row\n",
    "                grid.append(row) # append row to grid\n",
    "                break\n",
    "\n",
    "    bonus = 0 # initiating bonus as 0\n",
    "\n",
    "    for day_index in range(d): # loop through each days\n",
    "        day = grid[day_index]\n",
    "        total = 0 # initiating total as 0\n",
    "        for sale in day: \n",
    "            total += sale  # Sum all sales for the current day\n",
    "        if total % 13 == 0:\n",
    "            bonus += total // 13  # Add bonus if total is divisible by 13\n",
    "\n",
    "    # Calculate bonus from total franchisee sales\n",
    "    for i in range(f): # loop through each franchisee\n",
    "        total = 0 # initiate total as 0\n",
    "        for j in range(d): # loop through days\n",
    "            total += grid[j][i]\n",
    "        if total % 13 == 0:\n",
    "            bonus += total // 13  # Add bonus if total is divisible by 13\n",
    "\n",
    "    print(\"Total bonus awarded:\", bonus)\n",
    "bonus_calculation()  # Call the function to execute the bonus calculation"
   ]
  },
  {
   "cell_type": "code",
   "execution_count": 3,
   "id": "6bccded1-803f-46f6-bd94-3adade0eb4f1",
   "metadata": {},
   "outputs": [
    {
     "name": "stdin",
     "output_type": "stream",
     "text": [
      "Enter number of successful three-point shots for the Apples:  5\n",
      "Enter number of successful two-point shots for the Apples:  2\n",
      "Enter number of successful one-point free throw for the Apples:  1\n"
     ]
    },
    {
     "name": "stdout",
     "output_type": "stream",
     "text": [
      "------------------------------------------------------------------------------------------------------------------------------------------------------\n"
     ]
    },
    {
     "name": "stdin",
     "output_type": "stream",
     "text": [
      "Enter number of successful three-point shots for the Bananas:  5\n",
      "Enter number of successful two-point shots for the Bananas:  1\n",
      "Enter number of successful one-point free throw for the Banana:  3\n"
     ]
    },
    {
     "name": "stdout",
     "output_type": "stream",
     "text": [
      "Tie\n"
     ]
    }
   ],
   "source": [
    "def apples_vs_bananas():\n",
    "    # first get all the input from user for all type of shots and store it.\n",
    "    Apples_3 = int(input(\"Enter number of successful three-point shots for the Apples: \")) \n",
    "    Apples_2 = int(input(\"Enter number of successful two-point shots for the Apples: \"))\n",
    "    Apples_1 = int(input(\"Enter number of successful one-point free throw for the Apples: \"))\n",
    "    print(\"-\" * 150)  # just to make the output more readable\n",
    "    Bananas_3 = int(input(\"Enter number of successful three-point shots for the Bananas: \"))\n",
    "    Bananas_2 = int(input(\"Enter number of successful two-point shots for the Bananas: \"))\n",
    "    Bananas_1 = int(input(\"Enter number of successful one-point free throw for the Banana: \"))\n",
    "\n",
    "    # Here three point shots represent that for one shot the number of points we get will be multiplied by three\n",
    "    # For two point shots the number of points we get will be multiplied by two\n",
    "    # For one point shot the number of point we get will be multiplied by one\n",
    "\n",
    "    Apples_total = Apples_3 *3 + Apples_2 * 2 + Apples_1 * 1  # apples_3 is multiplied by 3 because it is a three point shot, apples_2 is multiplied by 2 for 2 point shots and apples_1 is multiplied by 1 for one point shot\n",
    "    Bananas_total = Bananas_3*3 + Bananas_2 * 2 + Bananas_1 * 1  # the same phenomenon like apples for bananas\n",
    "\n",
    "    if Apples_total > Bananas_total:  # checking the condition if apples_total is higher than bananas_total it should print apples won\n",
    "        print(\"APPLES WON\")\n",
    "    elif Bananas_total> Apples_total: # checking the condition if bananas_total is higher than apples_total it should print bananas won\n",
    "        print(\"BANANAS WON\")\n",
    "    else:\n",
    "        print(\"Tie\")  # if both are in the same point it returns tie, it returns only when both the if and elif character is false\n",
    "apples_vs_bananas()"
   ]
  },
  {
   "cell_type": "code",
   "execution_count": 4,
   "id": "17fbd5bd-10c0-4d28-bb12-732981f28888",
   "metadata": {},
   "outputs": [
    {
     "name": "stdout",
     "output_type": "stream",
     "text": [
      "\n",
      "ball is in the left cup (1) in beginning\n",
      "    A Swap the left and middle cups\n",
      "    B Swap the middle and right cups\n",
      "    C Swap the left and right cups\n",
      "    \n"
     ]
    },
    {
     "name": "stdin",
     "output_type": "stream",
     "text": [
      "Enter the sequence(like ABC or BCA by using only A,B,C):  ABCA\n"
     ]
    },
    {
     "name": "stdout",
     "output_type": "stream",
     "text": [
      "The ball is in cup  2\n"
     ]
    }
   ],
   "source": [
    "def ball_under_cups():\n",
    "    \"\"\"\n",
    "    This function simulates the game of swapping cups and finding the location of a ball.\n",
    "    The user is prompted to enter a sequence of swaps, and the final location of the ball is displayed.\n",
    "    \"\"\"\n",
    "\n",
    "    print('''\\nball is in the left cup (1) in beginning\n",
    "    A Swap the left and middle cups\n",
    "    B Swap the middle and right cups\n",
    "    C Swap the left and right cups\n",
    "    ''') # it should be printed in terminal so that the user can understand the concept\n",
    "    sequence = input(\"Enter the sequence(like ABC or BCA by using only A,B,C): \") # get the input from the user for the sequence to move the cup\n",
    "    loc = 1 # as it is mentioned in the question that the ball is in first cup so loc means ball location and it is in 1st cup\n",
    "    for swap in sequence.upper(): # changing the sequence to upper for consistency and it loop through each single character (swap) in the input (sequence) and swap mentioned here is A or B or C \n",
    "        if swap == 'A' and loc == 1:\n",
    "            loc = 2\n",
    "        elif swap == 'A' and loc == 2:\n",
    "            loc = 1  # it is given so that if A repeats 2 or 3 times the location should change\n",
    "        elif swap =='B' and loc == 2:\n",
    "            loc = 3\n",
    "        elif swap == 'B' and loc == 3:\n",
    "            loc = 2\n",
    "        elif swap == 'C' and loc == 1:\n",
    "            loc = 3\n",
    "        elif swap=='C' and loc == 3:\n",
    "            loc = 1\n",
    "        else: # if something is in the input other than a, b, c it should not return the output\n",
    "            print(f\"Please enter only A, B or C, the letter {swap} is not mentioned in the sequence\")\n",
    "    if swap in \"abcABC\": # checks whether the swap is a,b,c,A,B,C\n",
    "        print(\"The ball is in cup \",loc) # displaying the final output\n",
    "ball_under_cups()"
   ]
  },
  {
   "cell_type": "code",
   "execution_count": 5,
   "id": "7560df8b-6652-4ed1-aa06-b7cd6ead7f46",
   "metadata": {},
   "outputs": [
    {
     "name": "stdout",
     "output_type": "stream",
     "text": [
      "SONGS PLAYLIST APP\n",
      "normal sequence of playlist: ABCDE\n",
      "\n",
      "        Button1 to move first song to end\n",
      "        Button2 to move last song to beginning\n",
      "        Button3 to swap first two songs\n",
      "        Button4 to play the playlist\n",
      "        \n"
     ]
    },
    {
     "name": "stdin",
     "output_type": "stream",
     "text": [
      "Enter button number between 1 to 4:  1\n",
      "Enter number of times to press the button (1 to 10):  2\n",
      "Enter button number between 1 to 4:  3\n",
      "Enter number of times to press the button (1 to 10):  1\n",
      "Enter button number between 1 to 4:  4\n"
     ]
    },
    {
     "name": "stdout",
     "output_type": "stream",
     "text": [
      "Final Playlist: D C E A B\n"
     ]
    }
   ],
   "source": [
    "def songs_playlist():\n",
    "    print(\"SONGS PLAYLIST APP\") # displaying the user about this programme\n",
    "    songs = 'ABCDE' # default order of song playlist\n",
    "    print(\"normal sequence of playlist: ABCDE\")\n",
    "    print(\"\"\"\n",
    "        Button1 to move first song to end\n",
    "        Button2 to move last song to beginning\n",
    "        Button3 to swap first two songs\n",
    "        Button4 to play the playlist\n",
    "        \"\"\")\n",
    "    while True: # loops untill the button number is 4\n",
    "        \n",
    "        Nbutton = int(input(\"Enter button number between 1 to 4: \")) # gets an input as informing to select the button\n",
    "\n",
    "        if Nbutton == 4:\n",
    "            break  # Exit and play the playlist\n",
    "\n",
    "        if Nbutton < 1 or Nbutton > 4: # we have only 4 buttons 1,2,3,4 except these any other are not defined \n",
    "            print(\"Invalid button. Please enter a number from 1 to 4.\")\n",
    "            continue\n",
    "\n",
    "        Ntimes = int(input(\"Enter number of times to press the button (1 to 10): \")) # number of times to press the button\n",
    "\n",
    "        if Ntimes < 1 or Ntimes > 10:\n",
    "            print(\"Invalid number of presses. Must be between 1 and 10.\")\n",
    "            continue\n",
    "\n",
    "        for i in range(Ntimes): # it will loop the number of times the button is pressed\n",
    "            if Nbutton == 1:\n",
    "                songs = songs[1:] + songs[0]  # Move first song to the end\n",
    "            elif Nbutton == 2:\n",
    "                songs = songs[-1] + songs[:-1]  # Move last song to the beginning\n",
    "            elif Nbutton == 3:\n",
    "                if len(songs) >= 2:\n",
    "                    songs = songs[1] + songs[0] + songs[2:]  # Swap first two\n",
    "\n",
    "    print(\"Final Playlist:\", ' '.join(songs))\n",
    "    # it will end only when you press 4\n",
    "songs_playlist()"
   ]
  }
 ],
 "metadata": {
  "kernelspec": {
   "display_name": "Python 3 (ipykernel)",
   "language": "python",
   "name": "python3"
  },
  "language_info": {
   "codemirror_mode": {
    "name": "ipython",
    "version": 3
   },
   "file_extension": ".py",
   "mimetype": "text/x-python",
   "name": "python",
   "nbconvert_exporter": "python",
   "pygments_lexer": "ipython3",
   "version": "3.13.0"
  }
 },
 "nbformat": 4,
 "nbformat_minor": 5
}
